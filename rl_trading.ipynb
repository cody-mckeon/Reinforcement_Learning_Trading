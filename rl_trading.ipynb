{
  "nbformat": 4,
  "nbformat_minor": 0,
  "metadata": {
    "colab": {
      "provenance": [],
      "authorship_tag": "ABX9TyO1z0zPrWURlgHR1doD00Pd",
      "include_colab_link": true
    },
    "kernelspec": {
      "name": "python3",
      "display_name": "Python 3"
    },
    "language_info": {
      "name": "python"
    }
  },
  "cells": [
    {
      "cell_type": "markdown",
      "metadata": {
        "id": "view-in-github",
        "colab_type": "text"
      },
      "source": [
        "<a href=\"https://colab.research.google.com/github/cody-mckeon/Reinforcement_Learning_Trading/blob/collab/rl_trading.ipynb\" target=\"_parent\"><img src=\"https://colab.research.google.com/assets/colab-badge.svg\" alt=\"Open In Colab\"/></a>"
      ]
    },
    {
      "cell_type": "code",
      "execution_count": 1,
      "metadata": {
        "colab": {
          "base_uri": "https://localhost:8080/",
          "height": 252
        },
        "id": "heLW2Afn_TPE",
        "outputId": "000b8ea2-d41b-4499-9dc1-04ad67868b58"
      },
      "outputs": [
        {
          "output_type": "stream",
          "name": "stderr",
          "text": [
            "\r[*********************100%***********************]  1 of 1 completed\n"
          ]
        },
        {
          "output_type": "execute_result",
          "data": {
            "text/plain": [
              "                   Open         High          Low        Close    Adj Close  \\\n",
              "Date                                                                          \n",
              "2009-10-01  1054.910034  1054.910034  1029.449951  1029.849976  1029.849976   \n",
              "2009-10-02  1029.709961  1030.599976  1019.950012  1025.209961  1025.209961   \n",
              "2009-10-05  1026.869995  1042.579956  1025.920044  1040.459961  1040.459961   \n",
              "2009-10-06  1042.020020  1060.550049  1042.020020  1054.719971  1054.719971   \n",
              "2009-10-07  1053.650024  1058.020020  1050.099976  1057.579956  1057.579956   \n",
              "\n",
              "                Volume  \n",
              "Date                    \n",
              "2009-10-01  5791450000  \n",
              "2009-10-02  5583240000  \n",
              "2009-10-05  4313310000  \n",
              "2009-10-06  5029840000  \n",
              "2009-10-07  4238220000  "
            ],
            "text/html": [
              "\n",
              "  <div id=\"df-12ce1b7b-7659-41e7-bfd5-6dfe776abc99\" class=\"colab-df-container\">\n",
              "    <div>\n",
              "<style scoped>\n",
              "    .dataframe tbody tr th:only-of-type {\n",
              "        vertical-align: middle;\n",
              "    }\n",
              "\n",
              "    .dataframe tbody tr th {\n",
              "        vertical-align: top;\n",
              "    }\n",
              "\n",
              "    .dataframe thead th {\n",
              "        text-align: right;\n",
              "    }\n",
              "</style>\n",
              "<table border=\"1\" class=\"dataframe\">\n",
              "  <thead>\n",
              "    <tr style=\"text-align: right;\">\n",
              "      <th></th>\n",
              "      <th>Open</th>\n",
              "      <th>High</th>\n",
              "      <th>Low</th>\n",
              "      <th>Close</th>\n",
              "      <th>Adj Close</th>\n",
              "      <th>Volume</th>\n",
              "    </tr>\n",
              "    <tr>\n",
              "      <th>Date</th>\n",
              "      <th></th>\n",
              "      <th></th>\n",
              "      <th></th>\n",
              "      <th></th>\n",
              "      <th></th>\n",
              "      <th></th>\n",
              "    </tr>\n",
              "  </thead>\n",
              "  <tbody>\n",
              "    <tr>\n",
              "      <th>2009-10-01</th>\n",
              "      <td>1054.910034</td>\n",
              "      <td>1054.910034</td>\n",
              "      <td>1029.449951</td>\n",
              "      <td>1029.849976</td>\n",
              "      <td>1029.849976</td>\n",
              "      <td>5791450000</td>\n",
              "    </tr>\n",
              "    <tr>\n",
              "      <th>2009-10-02</th>\n",
              "      <td>1029.709961</td>\n",
              "      <td>1030.599976</td>\n",
              "      <td>1019.950012</td>\n",
              "      <td>1025.209961</td>\n",
              "      <td>1025.209961</td>\n",
              "      <td>5583240000</td>\n",
              "    </tr>\n",
              "    <tr>\n",
              "      <th>2009-10-05</th>\n",
              "      <td>1026.869995</td>\n",
              "      <td>1042.579956</td>\n",
              "      <td>1025.920044</td>\n",
              "      <td>1040.459961</td>\n",
              "      <td>1040.459961</td>\n",
              "      <td>4313310000</td>\n",
              "    </tr>\n",
              "    <tr>\n",
              "      <th>2009-10-06</th>\n",
              "      <td>1042.020020</td>\n",
              "      <td>1060.550049</td>\n",
              "      <td>1042.020020</td>\n",
              "      <td>1054.719971</td>\n",
              "      <td>1054.719971</td>\n",
              "      <td>5029840000</td>\n",
              "    </tr>\n",
              "    <tr>\n",
              "      <th>2009-10-07</th>\n",
              "      <td>1053.650024</td>\n",
              "      <td>1058.020020</td>\n",
              "      <td>1050.099976</td>\n",
              "      <td>1057.579956</td>\n",
              "      <td>1057.579956</td>\n",
              "      <td>4238220000</td>\n",
              "    </tr>\n",
              "  </tbody>\n",
              "</table>\n",
              "</div>\n",
              "    <div class=\"colab-df-buttons\">\n",
              "\n",
              "  <div class=\"colab-df-container\">\n",
              "    <button class=\"colab-df-convert\" onclick=\"convertToInteractive('df-12ce1b7b-7659-41e7-bfd5-6dfe776abc99')\"\n",
              "            title=\"Convert this dataframe to an interactive table.\"\n",
              "            style=\"display:none;\">\n",
              "\n",
              "  <svg xmlns=\"http://www.w3.org/2000/svg\" height=\"24px\" viewBox=\"0 -960 960 960\">\n",
              "    <path d=\"M120-120v-720h720v720H120Zm60-500h600v-160H180v160Zm220 220h160v-160H400v160Zm0 220h160v-160H400v160ZM180-400h160v-160H180v160Zm440 0h160v-160H620v160ZM180-180h160v-160H180v160Zm440 0h160v-160H620v160Z\"/>\n",
              "  </svg>\n",
              "    </button>\n",
              "\n",
              "  <style>\n",
              "    .colab-df-container {\n",
              "      display:flex;\n",
              "      gap: 12px;\n",
              "    }\n",
              "\n",
              "    .colab-df-convert {\n",
              "      background-color: #E8F0FE;\n",
              "      border: none;\n",
              "      border-radius: 50%;\n",
              "      cursor: pointer;\n",
              "      display: none;\n",
              "      fill: #1967D2;\n",
              "      height: 32px;\n",
              "      padding: 0 0 0 0;\n",
              "      width: 32px;\n",
              "    }\n",
              "\n",
              "    .colab-df-convert:hover {\n",
              "      background-color: #E2EBFA;\n",
              "      box-shadow: 0px 1px 2px rgba(60, 64, 67, 0.3), 0px 1px 3px 1px rgba(60, 64, 67, 0.15);\n",
              "      fill: #174EA6;\n",
              "    }\n",
              "\n",
              "    .colab-df-buttons div {\n",
              "      margin-bottom: 4px;\n",
              "    }\n",
              "\n",
              "    [theme=dark] .colab-df-convert {\n",
              "      background-color: #3B4455;\n",
              "      fill: #D2E3FC;\n",
              "    }\n",
              "\n",
              "    [theme=dark] .colab-df-convert:hover {\n",
              "      background-color: #434B5C;\n",
              "      box-shadow: 0px 1px 3px 1px rgba(0, 0, 0, 0.15);\n",
              "      filter: drop-shadow(0px 1px 2px rgba(0, 0, 0, 0.3));\n",
              "      fill: #FFFFFF;\n",
              "    }\n",
              "  </style>\n",
              "\n",
              "    <script>\n",
              "      const buttonEl =\n",
              "        document.querySelector('#df-12ce1b7b-7659-41e7-bfd5-6dfe776abc99 button.colab-df-convert');\n",
              "      buttonEl.style.display =\n",
              "        google.colab.kernel.accessAllowed ? 'block' : 'none';\n",
              "\n",
              "      async function convertToInteractive(key) {\n",
              "        const element = document.querySelector('#df-12ce1b7b-7659-41e7-bfd5-6dfe776abc99');\n",
              "        const dataTable =\n",
              "          await google.colab.kernel.invokeFunction('convertToInteractive',\n",
              "                                                    [key], {});\n",
              "        if (!dataTable) return;\n",
              "\n",
              "        const docLinkHtml = 'Like what you see? Visit the ' +\n",
              "          '<a target=\"_blank\" href=https://colab.research.google.com/notebooks/data_table.ipynb>data table notebook</a>'\n",
              "          + ' to learn more about interactive tables.';\n",
              "        element.innerHTML = '';\n",
              "        dataTable['output_type'] = 'display_data';\n",
              "        await google.colab.output.renderOutput(dataTable, element);\n",
              "        const docLink = document.createElement('div');\n",
              "        docLink.innerHTML = docLinkHtml;\n",
              "        element.appendChild(docLink);\n",
              "      }\n",
              "    </script>\n",
              "  </div>\n",
              "\n",
              "\n",
              "<div id=\"df-e7a233bf-c19d-4d26-86b7-5a660bdec0b7\">\n",
              "  <button class=\"colab-df-quickchart\" onclick=\"quickchart('df-e7a233bf-c19d-4d26-86b7-5a660bdec0b7')\"\n",
              "            title=\"Suggest charts\"\n",
              "            style=\"display:none;\">\n",
              "\n",
              "<svg xmlns=\"http://www.w3.org/2000/svg\" height=\"24px\"viewBox=\"0 0 24 24\"\n",
              "     width=\"24px\">\n",
              "    <g>\n",
              "        <path d=\"M19 3H5c-1.1 0-2 .9-2 2v14c0 1.1.9 2 2 2h14c1.1 0 2-.9 2-2V5c0-1.1-.9-2-2-2zM9 17H7v-7h2v7zm4 0h-2V7h2v10zm4 0h-2v-4h2v4z\"/>\n",
              "    </g>\n",
              "</svg>\n",
              "  </button>\n",
              "\n",
              "<style>\n",
              "  .colab-df-quickchart {\n",
              "      --bg-color: #E8F0FE;\n",
              "      --fill-color: #1967D2;\n",
              "      --hover-bg-color: #E2EBFA;\n",
              "      --hover-fill-color: #174EA6;\n",
              "      --disabled-fill-color: #AAA;\n",
              "      --disabled-bg-color: #DDD;\n",
              "  }\n",
              "\n",
              "  [theme=dark] .colab-df-quickchart {\n",
              "      --bg-color: #3B4455;\n",
              "      --fill-color: #D2E3FC;\n",
              "      --hover-bg-color: #434B5C;\n",
              "      --hover-fill-color: #FFFFFF;\n",
              "      --disabled-bg-color: #3B4455;\n",
              "      --disabled-fill-color: #666;\n",
              "  }\n",
              "\n",
              "  .colab-df-quickchart {\n",
              "    background-color: var(--bg-color);\n",
              "    border: none;\n",
              "    border-radius: 50%;\n",
              "    cursor: pointer;\n",
              "    display: none;\n",
              "    fill: var(--fill-color);\n",
              "    height: 32px;\n",
              "    padding: 0;\n",
              "    width: 32px;\n",
              "  }\n",
              "\n",
              "  .colab-df-quickchart:hover {\n",
              "    background-color: var(--hover-bg-color);\n",
              "    box-shadow: 0 1px 2px rgba(60, 64, 67, 0.3), 0 1px 3px 1px rgba(60, 64, 67, 0.15);\n",
              "    fill: var(--button-hover-fill-color);\n",
              "  }\n",
              "\n",
              "  .colab-df-quickchart-complete:disabled,\n",
              "  .colab-df-quickchart-complete:disabled:hover {\n",
              "    background-color: var(--disabled-bg-color);\n",
              "    fill: var(--disabled-fill-color);\n",
              "    box-shadow: none;\n",
              "  }\n",
              "\n",
              "  .colab-df-spinner {\n",
              "    border: 2px solid var(--fill-color);\n",
              "    border-color: transparent;\n",
              "    border-bottom-color: var(--fill-color);\n",
              "    animation:\n",
              "      spin 1s steps(1) infinite;\n",
              "  }\n",
              "\n",
              "  @keyframes spin {\n",
              "    0% {\n",
              "      border-color: transparent;\n",
              "      border-bottom-color: var(--fill-color);\n",
              "      border-left-color: var(--fill-color);\n",
              "    }\n",
              "    20% {\n",
              "      border-color: transparent;\n",
              "      border-left-color: var(--fill-color);\n",
              "      border-top-color: var(--fill-color);\n",
              "    }\n",
              "    30% {\n",
              "      border-color: transparent;\n",
              "      border-left-color: var(--fill-color);\n",
              "      border-top-color: var(--fill-color);\n",
              "      border-right-color: var(--fill-color);\n",
              "    }\n",
              "    40% {\n",
              "      border-color: transparent;\n",
              "      border-right-color: var(--fill-color);\n",
              "      border-top-color: var(--fill-color);\n",
              "    }\n",
              "    60% {\n",
              "      border-color: transparent;\n",
              "      border-right-color: var(--fill-color);\n",
              "    }\n",
              "    80% {\n",
              "      border-color: transparent;\n",
              "      border-right-color: var(--fill-color);\n",
              "      border-bottom-color: var(--fill-color);\n",
              "    }\n",
              "    90% {\n",
              "      border-color: transparent;\n",
              "      border-bottom-color: var(--fill-color);\n",
              "    }\n",
              "  }\n",
              "</style>\n",
              "\n",
              "  <script>\n",
              "    async function quickchart(key) {\n",
              "      const quickchartButtonEl =\n",
              "        document.querySelector('#' + key + ' button');\n",
              "      quickchartButtonEl.disabled = true;  // To prevent multiple clicks.\n",
              "      quickchartButtonEl.classList.add('colab-df-spinner');\n",
              "      try {\n",
              "        const charts = await google.colab.kernel.invokeFunction(\n",
              "            'suggestCharts', [key], {});\n",
              "      } catch (error) {\n",
              "        console.error('Error during call to suggestCharts:', error);\n",
              "      }\n",
              "      quickchartButtonEl.classList.remove('colab-df-spinner');\n",
              "      quickchartButtonEl.classList.add('colab-df-quickchart-complete');\n",
              "    }\n",
              "    (() => {\n",
              "      let quickchartButtonEl =\n",
              "        document.querySelector('#df-e7a233bf-c19d-4d26-86b7-5a660bdec0b7 button');\n",
              "      quickchartButtonEl.style.display =\n",
              "        google.colab.kernel.accessAllowed ? 'block' : 'none';\n",
              "    })();\n",
              "  </script>\n",
              "</div>\n",
              "\n",
              "    </div>\n",
              "  </div>\n"
            ],
            "application/vnd.google.colaboratory.intrinsic+json": {
              "type": "dataframe",
              "variable_name": "data",
              "summary": "{\n  \"name\": \"data\",\n  \"rows\": 3773,\n  \"fields\": [\n    {\n      \"column\": \"Date\",\n      \"properties\": {\n        \"dtype\": \"date\",\n        \"min\": \"2009-10-01 00:00:00\",\n        \"max\": \"2024-09-27 00:00:00\",\n        \"num_unique_values\": 3773,\n        \"samples\": [\n          \"2010-02-16 00:00:00\",\n          \"2024-09-25 00:00:00\",\n          \"2020-04-03 00:00:00\"\n        ],\n        \"semantic_type\": \"\",\n        \"description\": \"\"\n      }\n    },\n    {\n      \"column\": \"Open\",\n      \"properties\": {\n        \"dtype\": \"number\",\n        \"std\": 1210.3940929963878,\n        \"min\": 1026.8699951171875,\n        \"max\": 5762.22021484375,\n        \"num_unique_values\": 3746,\n        \"samples\": [\n          4126.64990234375,\n          1858.9200439453125,\n          1307.3399658203125\n        ],\n        \"semantic_type\": \"\",\n        \"description\": \"\"\n      }\n    },\n    {\n      \"column\": \"High\",\n      \"properties\": {\n        \"dtype\": \"number\",\n        \"std\": 1216.7986941261534,\n        \"min\": 1030.5999755859375,\n        \"max\": 5767.3701171875,\n        \"num_unique_values\": 3740,\n        \"samples\": [\n          4132.7998046875,\n          1855.550048828125,\n          1329.3800048828125\n        ],\n        \"semantic_type\": \"\",\n        \"description\": \"\"\n      }\n    },\n    {\n      \"column\": \"Low\",\n      \"properties\": {\n        \"dtype\": \"number\",\n        \"std\": 1203.6584991636878,\n        \"min\": 1010.9099731445312,\n        \"max\": 5727.33984375,\n        \"num_unique_values\": 3752,\n        \"samples\": [\n          2615.320068359375,\n          1783.3800048828125,\n          3802.419921875\n        ],\n        \"semantic_type\": \"\",\n        \"description\": \"\"\n      }\n    },\n    {\n      \"column\": \"Close\",\n      \"properties\": {\n        \"dtype\": \"number\",\n        \"std\": 1210.5005913858374,\n        \"min\": 1022.5800170898438,\n        \"max\": 5745.3701171875,\n        \"num_unique_values\": 3755,\n        \"samples\": [\n          2663.419921875,\n          1800.9000244140625,\n          3808.10009765625\n        ],\n        \"semantic_type\": \"\",\n        \"description\": \"\"\n      }\n    },\n    {\n      \"column\": \"Adj Close\",\n      \"properties\": {\n        \"dtype\": \"number\",\n        \"std\": 1210.5005913858374,\n        \"min\": 1022.5800170898438,\n        \"max\": 5745.3701171875,\n        \"num_unique_values\": 3755,\n        \"samples\": [\n          2663.419921875,\n          1800.9000244140625,\n          3808.10009765625\n        ],\n        \"semantic_type\": \"\",\n        \"description\": \"\"\n      }\n    },\n    {\n      \"column\": \"Volume\",\n      \"properties\": {\n        \"dtype\": \"number\",\n        \"std\": 957225482,\n        \"min\": 1025000000,\n        \"max\": 10617810000,\n        \"num_unique_values\": 3714,\n        \"samples\": [\n          3969070000,\n          2948380000,\n          4595380000\n        ],\n        \"semantic_type\": \"\",\n        \"description\": \"\"\n      }\n    }\n  ]\n}"
            }
          },
          "metadata": {},
          "execution_count": 1
        }
      ],
      "source": [
        "import yfinance as yf\n",
        "from datetime import datetime, timedelta\n",
        "\n",
        "# Calculate 15 years ago from today\n",
        "today = datetime.now()\n",
        "fifteen_years_ago = today - timedelta(days=15*365.25)  # Account for leap years\n",
        "yesterday = datetime.now() - timedelta(days=1)\n",
        "\n",
        "data = yf.download('^GSPC', start=fifteen_years_ago, end=yesterday)\n",
        "\n",
        "data.head()"
      ]
    },
    {
      "cell_type": "code",
      "source": [
        "import pandas as pd\n",
        "data.index = pd.to_datetime(data.index)\n",
        "data.index"
      ],
      "metadata": {
        "colab": {
          "base_uri": "https://localhost:8080/"
        },
        "id": "rYbqFTus_bEW",
        "outputId": "37a17312-0085-4361-9049-76ddf39f94fd"
      },
      "execution_count": 2,
      "outputs": [
        {
          "output_type": "execute_result",
          "data": {
            "text/plain": [
              "DatetimeIndex(['2009-10-01', '2009-10-02', '2009-10-05', '2009-10-06',\n",
              "               '2009-10-07', '2009-10-08', '2009-10-09', '2009-10-12',\n",
              "               '2009-10-13', '2009-10-14',\n",
              "               ...\n",
              "               '2024-09-16', '2024-09-17', '2024-09-18', '2024-09-19',\n",
              "               '2024-09-20', '2024-09-23', '2024-09-24', '2024-09-25',\n",
              "               '2024-09-26', '2024-09-27'],\n",
              "              dtype='datetime64[ns]', name='Date', length=3773, freq=None)"
            ]
          },
          "metadata": {},
          "execution_count": 2
        }
      ]
    },
    {
      "cell_type": "code",
      "source": [
        "date_range = pd.date_range(start=data.index.min(), end=data.index.max())\n",
        "missing_dates = date_range.difference(data.index)\n",
        "print(f\"Missing Dates: {missing_dates}\")"
      ],
      "metadata": {
        "colab": {
          "base_uri": "https://localhost:8080/"
        },
        "id": "vElM1o2D_jKh",
        "outputId": "58c9dd2e-24c2-4675-90b8-bfe6ef9d1e9c"
      },
      "execution_count": 3,
      "outputs": [
        {
          "output_type": "stream",
          "name": "stdout",
          "text": [
            "Missing Dates: DatetimeIndex(['2009-10-03', '2009-10-04', '2009-10-10', '2009-10-11',\n",
            "               '2009-10-17', '2009-10-18', '2009-10-24', '2009-10-25',\n",
            "               '2009-10-31', '2009-11-01',\n",
            "               ...\n",
            "               '2024-08-25', '2024-08-31', '2024-09-01', '2024-09-02',\n",
            "               '2024-09-07', '2024-09-08', '2024-09-14', '2024-09-15',\n",
            "               '2024-09-21', '2024-09-22'],\n",
            "              dtype='datetime64[ns]', length=1703, freq=None)\n"
          ]
        }
      ]
    },
    {
      "cell_type": "code",
      "source": [
        "# Reindex the DataFrame to include all the dates\n",
        "data_full = data.reindex(date_range)\n",
        "\n",
        "# Fill missing values with forward fill (propogating the last known value)\n",
        "data_full.ffill(inplace=True)\n",
        "\n",
        "missing_values = data_full.isnull().sum()\n",
        "print(f\"Missing values after forward fill: \\n{missing_values}\")"
      ],
      "metadata": {
        "colab": {
          "base_uri": "https://localhost:8080/"
        },
        "id": "gfBq0krV_nBx",
        "outputId": "9854664e-60df-4133-d325-b1a2248b3b4a"
      },
      "execution_count": 5,
      "outputs": [
        {
          "output_type": "stream",
          "name": "stdout",
          "text": [
            "Missing values after forward fill: \n",
            "Open         0\n",
            "High         0\n",
            "Low          0\n",
            "Close        0\n",
            "Adj Close    0\n",
            "Volume       0\n",
            "dtype: int64\n"
          ]
        }
      ]
    },
    {
      "cell_type": "code",
      "source": [
        "date_range = pd.date_range(start=data_full.index.min(), end=data_full.index.max())\n",
        "missing_dates = date_range.difference(data_full.index)\n",
        "print(f\"Missing Dates: {missing_dates}\")"
      ],
      "metadata": {
        "colab": {
          "base_uri": "https://localhost:8080/"
        },
        "id": "Xsm2yjoB_qyC",
        "outputId": "e0c3a6dd-69aa-45d8-aaf3-30d854c59b08"
      },
      "execution_count": 6,
      "outputs": [
        {
          "output_type": "stream",
          "name": "stdout",
          "text": [
            "Missing Dates: DatetimeIndex([], dtype='datetime64[ns]', freq='D')\n"
          ]
        }
      ]
    },
    {
      "cell_type": "code",
      "source": [
        "data_full.head(30)"
      ],
      "metadata": {
        "colab": {
          "base_uri": "https://localhost:8080/",
          "height": 979
        },
        "id": "7iqdYa0OAQj4",
        "outputId": "6e3fb596-9813-4024-b047-2b2405db0be1"
      },
      "execution_count": 7,
      "outputs": [
        {
          "output_type": "execute_result",
          "data": {
            "text/plain": [
              "                   Open         High          Low        Close    Adj Close  \\\n",
              "2009-10-01  1054.910034  1054.910034  1029.449951  1029.849976  1029.849976   \n",
              "2009-10-02  1029.709961  1030.599976  1019.950012  1025.209961  1025.209961   \n",
              "2009-10-03  1029.709961  1030.599976  1019.950012  1025.209961  1025.209961   \n",
              "2009-10-04  1029.709961  1030.599976  1019.950012  1025.209961  1025.209961   \n",
              "2009-10-05  1026.869995  1042.579956  1025.920044  1040.459961  1040.459961   \n",
              "2009-10-06  1042.020020  1060.550049  1042.020020  1054.719971  1054.719971   \n",
              "2009-10-07  1053.650024  1058.020020  1050.099976  1057.579956  1057.579956   \n",
              "2009-10-08  1060.030029  1070.670044  1060.030029  1065.479980  1065.479980   \n",
              "2009-10-09  1065.280029  1071.510010  1063.000000  1071.489990  1071.489990   \n",
              "2009-10-10  1065.280029  1071.510010  1063.000000  1071.489990  1071.489990   \n",
              "2009-10-11  1065.280029  1071.510010  1063.000000  1071.489990  1071.489990   \n",
              "2009-10-12  1071.630005  1079.459961  1071.630005  1076.189941  1076.189941   \n",
              "2009-10-13  1074.959961  1075.300049  1066.709961  1073.189941  1073.189941   \n",
              "2009-10-14  1078.680054  1093.170044  1078.680054  1092.020020  1092.020020   \n",
              "2009-10-15  1090.359985  1096.560059  1086.410034  1096.560059  1096.560059   \n",
              "2009-10-16  1094.670044  1094.670044  1081.530029  1087.680054  1087.680054   \n",
              "2009-10-17  1094.670044  1094.670044  1081.530029  1087.680054  1087.680054   \n",
              "2009-10-18  1094.670044  1094.670044  1081.530029  1087.680054  1087.680054   \n",
              "2009-10-19  1088.219971  1100.170044  1086.479980  1097.910034  1097.910034   \n",
              "2009-10-20  1098.640015  1098.640015  1086.160034  1091.060059  1091.060059   \n",
              "2009-10-21  1090.359985  1101.359985  1080.770020  1081.400024  1081.400024   \n",
              "2009-10-22  1080.959961  1095.209961  1074.310059  1092.910034  1092.910034   \n",
              "2009-10-23  1095.619995  1095.829956  1075.489990  1079.599976  1079.599976   \n",
              "2009-10-24  1095.619995  1095.829956  1075.489990  1079.599976  1079.599976   \n",
              "2009-10-25  1095.619995  1095.829956  1075.489990  1079.599976  1079.599976   \n",
              "2009-10-26  1080.359985  1091.750000  1065.229980  1066.949951  1066.949951   \n",
              "2009-10-27  1067.540039  1072.479980  1060.619995  1063.410034  1063.410034   \n",
              "2009-10-28  1061.510010  1063.260010  1042.189941  1042.630005  1042.630005   \n",
              "2009-10-29  1043.689941  1066.829956  1043.689941  1066.109985  1066.109985   \n",
              "2009-10-30  1065.410034  1065.410034  1033.380005  1036.189941  1036.189941   \n",
              "\n",
              "                  Volume  \n",
              "2009-10-01  5.791450e+09  \n",
              "2009-10-02  5.583240e+09  \n",
              "2009-10-03  5.583240e+09  \n",
              "2009-10-04  5.583240e+09  \n",
              "2009-10-05  4.313310e+09  \n",
              "2009-10-06  5.029840e+09  \n",
              "2009-10-07  4.238220e+09  \n",
              "2009-10-08  4.988400e+09  \n",
              "2009-10-09  3.763780e+09  \n",
              "2009-10-10  3.763780e+09  \n",
              "2009-10-11  3.763780e+09  \n",
              "2009-10-12  3.710430e+09  \n",
              "2009-10-13  4.320480e+09  \n",
              "2009-10-14  5.406420e+09  \n",
              "2009-10-15  5.369780e+09  \n",
              "2009-10-16  4.894740e+09  \n",
              "2009-10-17  4.894740e+09  \n",
              "2009-10-18  4.894740e+09  \n",
              "2009-10-19  4.619240e+09  \n",
              "2009-10-20  5.396930e+09  \n",
              "2009-10-21  5.616290e+09  \n",
              "2009-10-22  5.192410e+09  \n",
              "2009-10-23  4.767460e+09  \n",
              "2009-10-24  4.767460e+09  \n",
              "2009-10-25  4.767460e+09  \n",
              "2009-10-26  6.363380e+09  \n",
              "2009-10-27  5.337380e+09  \n",
              "2009-10-28  6.600350e+09  \n",
              "2009-10-29  5.595040e+09  \n",
              "2009-10-30  6.512420e+09  "
            ],
            "text/html": [
              "\n",
              "  <div id=\"df-98f43e25-be57-48cc-8727-23852cd93b3e\" class=\"colab-df-container\">\n",
              "    <div>\n",
              "<style scoped>\n",
              "    .dataframe tbody tr th:only-of-type {\n",
              "        vertical-align: middle;\n",
              "    }\n",
              "\n",
              "    .dataframe tbody tr th {\n",
              "        vertical-align: top;\n",
              "    }\n",
              "\n",
              "    .dataframe thead th {\n",
              "        text-align: right;\n",
              "    }\n",
              "</style>\n",
              "<table border=\"1\" class=\"dataframe\">\n",
              "  <thead>\n",
              "    <tr style=\"text-align: right;\">\n",
              "      <th></th>\n",
              "      <th>Open</th>\n",
              "      <th>High</th>\n",
              "      <th>Low</th>\n",
              "      <th>Close</th>\n",
              "      <th>Adj Close</th>\n",
              "      <th>Volume</th>\n",
              "    </tr>\n",
              "  </thead>\n",
              "  <tbody>\n",
              "    <tr>\n",
              "      <th>2009-10-01</th>\n",
              "      <td>1054.910034</td>\n",
              "      <td>1054.910034</td>\n",
              "      <td>1029.449951</td>\n",
              "      <td>1029.849976</td>\n",
              "      <td>1029.849976</td>\n",
              "      <td>5.791450e+09</td>\n",
              "    </tr>\n",
              "    <tr>\n",
              "      <th>2009-10-02</th>\n",
              "      <td>1029.709961</td>\n",
              "      <td>1030.599976</td>\n",
              "      <td>1019.950012</td>\n",
              "      <td>1025.209961</td>\n",
              "      <td>1025.209961</td>\n",
              "      <td>5.583240e+09</td>\n",
              "    </tr>\n",
              "    <tr>\n",
              "      <th>2009-10-03</th>\n",
              "      <td>1029.709961</td>\n",
              "      <td>1030.599976</td>\n",
              "      <td>1019.950012</td>\n",
              "      <td>1025.209961</td>\n",
              "      <td>1025.209961</td>\n",
              "      <td>5.583240e+09</td>\n",
              "    </tr>\n",
              "    <tr>\n",
              "      <th>2009-10-04</th>\n",
              "      <td>1029.709961</td>\n",
              "      <td>1030.599976</td>\n",
              "      <td>1019.950012</td>\n",
              "      <td>1025.209961</td>\n",
              "      <td>1025.209961</td>\n",
              "      <td>5.583240e+09</td>\n",
              "    </tr>\n",
              "    <tr>\n",
              "      <th>2009-10-05</th>\n",
              "      <td>1026.869995</td>\n",
              "      <td>1042.579956</td>\n",
              "      <td>1025.920044</td>\n",
              "      <td>1040.459961</td>\n",
              "      <td>1040.459961</td>\n",
              "      <td>4.313310e+09</td>\n",
              "    </tr>\n",
              "    <tr>\n",
              "      <th>2009-10-06</th>\n",
              "      <td>1042.020020</td>\n",
              "      <td>1060.550049</td>\n",
              "      <td>1042.020020</td>\n",
              "      <td>1054.719971</td>\n",
              "      <td>1054.719971</td>\n",
              "      <td>5.029840e+09</td>\n",
              "    </tr>\n",
              "    <tr>\n",
              "      <th>2009-10-07</th>\n",
              "      <td>1053.650024</td>\n",
              "      <td>1058.020020</td>\n",
              "      <td>1050.099976</td>\n",
              "      <td>1057.579956</td>\n",
              "      <td>1057.579956</td>\n",
              "      <td>4.238220e+09</td>\n",
              "    </tr>\n",
              "    <tr>\n",
              "      <th>2009-10-08</th>\n",
              "      <td>1060.030029</td>\n",
              "      <td>1070.670044</td>\n",
              "      <td>1060.030029</td>\n",
              "      <td>1065.479980</td>\n",
              "      <td>1065.479980</td>\n",
              "      <td>4.988400e+09</td>\n",
              "    </tr>\n",
              "    <tr>\n",
              "      <th>2009-10-09</th>\n",
              "      <td>1065.280029</td>\n",
              "      <td>1071.510010</td>\n",
              "      <td>1063.000000</td>\n",
              "      <td>1071.489990</td>\n",
              "      <td>1071.489990</td>\n",
              "      <td>3.763780e+09</td>\n",
              "    </tr>\n",
              "    <tr>\n",
              "      <th>2009-10-10</th>\n",
              "      <td>1065.280029</td>\n",
              "      <td>1071.510010</td>\n",
              "      <td>1063.000000</td>\n",
              "      <td>1071.489990</td>\n",
              "      <td>1071.489990</td>\n",
              "      <td>3.763780e+09</td>\n",
              "    </tr>\n",
              "    <tr>\n",
              "      <th>2009-10-11</th>\n",
              "      <td>1065.280029</td>\n",
              "      <td>1071.510010</td>\n",
              "      <td>1063.000000</td>\n",
              "      <td>1071.489990</td>\n",
              "      <td>1071.489990</td>\n",
              "      <td>3.763780e+09</td>\n",
              "    </tr>\n",
              "    <tr>\n",
              "      <th>2009-10-12</th>\n",
              "      <td>1071.630005</td>\n",
              "      <td>1079.459961</td>\n",
              "      <td>1071.630005</td>\n",
              "      <td>1076.189941</td>\n",
              "      <td>1076.189941</td>\n",
              "      <td>3.710430e+09</td>\n",
              "    </tr>\n",
              "    <tr>\n",
              "      <th>2009-10-13</th>\n",
              "      <td>1074.959961</td>\n",
              "      <td>1075.300049</td>\n",
              "      <td>1066.709961</td>\n",
              "      <td>1073.189941</td>\n",
              "      <td>1073.189941</td>\n",
              "      <td>4.320480e+09</td>\n",
              "    </tr>\n",
              "    <tr>\n",
              "      <th>2009-10-14</th>\n",
              "      <td>1078.680054</td>\n",
              "      <td>1093.170044</td>\n",
              "      <td>1078.680054</td>\n",
              "      <td>1092.020020</td>\n",
              "      <td>1092.020020</td>\n",
              "      <td>5.406420e+09</td>\n",
              "    </tr>\n",
              "    <tr>\n",
              "      <th>2009-10-15</th>\n",
              "      <td>1090.359985</td>\n",
              "      <td>1096.560059</td>\n",
              "      <td>1086.410034</td>\n",
              "      <td>1096.560059</td>\n",
              "      <td>1096.560059</td>\n",
              "      <td>5.369780e+09</td>\n",
              "    </tr>\n",
              "    <tr>\n",
              "      <th>2009-10-16</th>\n",
              "      <td>1094.670044</td>\n",
              "      <td>1094.670044</td>\n",
              "      <td>1081.530029</td>\n",
              "      <td>1087.680054</td>\n",
              "      <td>1087.680054</td>\n",
              "      <td>4.894740e+09</td>\n",
              "    </tr>\n",
              "    <tr>\n",
              "      <th>2009-10-17</th>\n",
              "      <td>1094.670044</td>\n",
              "      <td>1094.670044</td>\n",
              "      <td>1081.530029</td>\n",
              "      <td>1087.680054</td>\n",
              "      <td>1087.680054</td>\n",
              "      <td>4.894740e+09</td>\n",
              "    </tr>\n",
              "    <tr>\n",
              "      <th>2009-10-18</th>\n",
              "      <td>1094.670044</td>\n",
              "      <td>1094.670044</td>\n",
              "      <td>1081.530029</td>\n",
              "      <td>1087.680054</td>\n",
              "      <td>1087.680054</td>\n",
              "      <td>4.894740e+09</td>\n",
              "    </tr>\n",
              "    <tr>\n",
              "      <th>2009-10-19</th>\n",
              "      <td>1088.219971</td>\n",
              "      <td>1100.170044</td>\n",
              "      <td>1086.479980</td>\n",
              "      <td>1097.910034</td>\n",
              "      <td>1097.910034</td>\n",
              "      <td>4.619240e+09</td>\n",
              "    </tr>\n",
              "    <tr>\n",
              "      <th>2009-10-20</th>\n",
              "      <td>1098.640015</td>\n",
              "      <td>1098.640015</td>\n",
              "      <td>1086.160034</td>\n",
              "      <td>1091.060059</td>\n",
              "      <td>1091.060059</td>\n",
              "      <td>5.396930e+09</td>\n",
              "    </tr>\n",
              "    <tr>\n",
              "      <th>2009-10-21</th>\n",
              "      <td>1090.359985</td>\n",
              "      <td>1101.359985</td>\n",
              "      <td>1080.770020</td>\n",
              "      <td>1081.400024</td>\n",
              "      <td>1081.400024</td>\n",
              "      <td>5.616290e+09</td>\n",
              "    </tr>\n",
              "    <tr>\n",
              "      <th>2009-10-22</th>\n",
              "      <td>1080.959961</td>\n",
              "      <td>1095.209961</td>\n",
              "      <td>1074.310059</td>\n",
              "      <td>1092.910034</td>\n",
              "      <td>1092.910034</td>\n",
              "      <td>5.192410e+09</td>\n",
              "    </tr>\n",
              "    <tr>\n",
              "      <th>2009-10-23</th>\n",
              "      <td>1095.619995</td>\n",
              "      <td>1095.829956</td>\n",
              "      <td>1075.489990</td>\n",
              "      <td>1079.599976</td>\n",
              "      <td>1079.599976</td>\n",
              "      <td>4.767460e+09</td>\n",
              "    </tr>\n",
              "    <tr>\n",
              "      <th>2009-10-24</th>\n",
              "      <td>1095.619995</td>\n",
              "      <td>1095.829956</td>\n",
              "      <td>1075.489990</td>\n",
              "      <td>1079.599976</td>\n",
              "      <td>1079.599976</td>\n",
              "      <td>4.767460e+09</td>\n",
              "    </tr>\n",
              "    <tr>\n",
              "      <th>2009-10-25</th>\n",
              "      <td>1095.619995</td>\n",
              "      <td>1095.829956</td>\n",
              "      <td>1075.489990</td>\n",
              "      <td>1079.599976</td>\n",
              "      <td>1079.599976</td>\n",
              "      <td>4.767460e+09</td>\n",
              "    </tr>\n",
              "    <tr>\n",
              "      <th>2009-10-26</th>\n",
              "      <td>1080.359985</td>\n",
              "      <td>1091.750000</td>\n",
              "      <td>1065.229980</td>\n",
              "      <td>1066.949951</td>\n",
              "      <td>1066.949951</td>\n",
              "      <td>6.363380e+09</td>\n",
              "    </tr>\n",
              "    <tr>\n",
              "      <th>2009-10-27</th>\n",
              "      <td>1067.540039</td>\n",
              "      <td>1072.479980</td>\n",
              "      <td>1060.619995</td>\n",
              "      <td>1063.410034</td>\n",
              "      <td>1063.410034</td>\n",
              "      <td>5.337380e+09</td>\n",
              "    </tr>\n",
              "    <tr>\n",
              "      <th>2009-10-28</th>\n",
              "      <td>1061.510010</td>\n",
              "      <td>1063.260010</td>\n",
              "      <td>1042.189941</td>\n",
              "      <td>1042.630005</td>\n",
              "      <td>1042.630005</td>\n",
              "      <td>6.600350e+09</td>\n",
              "    </tr>\n",
              "    <tr>\n",
              "      <th>2009-10-29</th>\n",
              "      <td>1043.689941</td>\n",
              "      <td>1066.829956</td>\n",
              "      <td>1043.689941</td>\n",
              "      <td>1066.109985</td>\n",
              "      <td>1066.109985</td>\n",
              "      <td>5.595040e+09</td>\n",
              "    </tr>\n",
              "    <tr>\n",
              "      <th>2009-10-30</th>\n",
              "      <td>1065.410034</td>\n",
              "      <td>1065.410034</td>\n",
              "      <td>1033.380005</td>\n",
              "      <td>1036.189941</td>\n",
              "      <td>1036.189941</td>\n",
              "      <td>6.512420e+09</td>\n",
              "    </tr>\n",
              "  </tbody>\n",
              "</table>\n",
              "</div>\n",
              "    <div class=\"colab-df-buttons\">\n",
              "\n",
              "  <div class=\"colab-df-container\">\n",
              "    <button class=\"colab-df-convert\" onclick=\"convertToInteractive('df-98f43e25-be57-48cc-8727-23852cd93b3e')\"\n",
              "            title=\"Convert this dataframe to an interactive table.\"\n",
              "            style=\"display:none;\">\n",
              "\n",
              "  <svg xmlns=\"http://www.w3.org/2000/svg\" height=\"24px\" viewBox=\"0 -960 960 960\">\n",
              "    <path d=\"M120-120v-720h720v720H120Zm60-500h600v-160H180v160Zm220 220h160v-160H400v160Zm0 220h160v-160H400v160ZM180-400h160v-160H180v160Zm440 0h160v-160H620v160ZM180-180h160v-160H180v160Zm440 0h160v-160H620v160Z\"/>\n",
              "  </svg>\n",
              "    </button>\n",
              "\n",
              "  <style>\n",
              "    .colab-df-container {\n",
              "      display:flex;\n",
              "      gap: 12px;\n",
              "    }\n",
              "\n",
              "    .colab-df-convert {\n",
              "      background-color: #E8F0FE;\n",
              "      border: none;\n",
              "      border-radius: 50%;\n",
              "      cursor: pointer;\n",
              "      display: none;\n",
              "      fill: #1967D2;\n",
              "      height: 32px;\n",
              "      padding: 0 0 0 0;\n",
              "      width: 32px;\n",
              "    }\n",
              "\n",
              "    .colab-df-convert:hover {\n",
              "      background-color: #E2EBFA;\n",
              "      box-shadow: 0px 1px 2px rgba(60, 64, 67, 0.3), 0px 1px 3px 1px rgba(60, 64, 67, 0.15);\n",
              "      fill: #174EA6;\n",
              "    }\n",
              "\n",
              "    .colab-df-buttons div {\n",
              "      margin-bottom: 4px;\n",
              "    }\n",
              "\n",
              "    [theme=dark] .colab-df-convert {\n",
              "      background-color: #3B4455;\n",
              "      fill: #D2E3FC;\n",
              "    }\n",
              "\n",
              "    [theme=dark] .colab-df-convert:hover {\n",
              "      background-color: #434B5C;\n",
              "      box-shadow: 0px 1px 3px 1px rgba(0, 0, 0, 0.15);\n",
              "      filter: drop-shadow(0px 1px 2px rgba(0, 0, 0, 0.3));\n",
              "      fill: #FFFFFF;\n",
              "    }\n",
              "  </style>\n",
              "\n",
              "    <script>\n",
              "      const buttonEl =\n",
              "        document.querySelector('#df-98f43e25-be57-48cc-8727-23852cd93b3e button.colab-df-convert');\n",
              "      buttonEl.style.display =\n",
              "        google.colab.kernel.accessAllowed ? 'block' : 'none';\n",
              "\n",
              "      async function convertToInteractive(key) {\n",
              "        const element = document.querySelector('#df-98f43e25-be57-48cc-8727-23852cd93b3e');\n",
              "        const dataTable =\n",
              "          await google.colab.kernel.invokeFunction('convertToInteractive',\n",
              "                                                    [key], {});\n",
              "        if (!dataTable) return;\n",
              "\n",
              "        const docLinkHtml = 'Like what you see? Visit the ' +\n",
              "          '<a target=\"_blank\" href=https://colab.research.google.com/notebooks/data_table.ipynb>data table notebook</a>'\n",
              "          + ' to learn more about interactive tables.';\n",
              "        element.innerHTML = '';\n",
              "        dataTable['output_type'] = 'display_data';\n",
              "        await google.colab.output.renderOutput(dataTable, element);\n",
              "        const docLink = document.createElement('div');\n",
              "        docLink.innerHTML = docLinkHtml;\n",
              "        element.appendChild(docLink);\n",
              "      }\n",
              "    </script>\n",
              "  </div>\n",
              "\n",
              "\n",
              "<div id=\"df-8a52659d-eb9f-4953-abe8-e2489a7d2e58\">\n",
              "  <button class=\"colab-df-quickchart\" onclick=\"quickchart('df-8a52659d-eb9f-4953-abe8-e2489a7d2e58')\"\n",
              "            title=\"Suggest charts\"\n",
              "            style=\"display:none;\">\n",
              "\n",
              "<svg xmlns=\"http://www.w3.org/2000/svg\" height=\"24px\"viewBox=\"0 0 24 24\"\n",
              "     width=\"24px\">\n",
              "    <g>\n",
              "        <path d=\"M19 3H5c-1.1 0-2 .9-2 2v14c0 1.1.9 2 2 2h14c1.1 0 2-.9 2-2V5c0-1.1-.9-2-2-2zM9 17H7v-7h2v7zm4 0h-2V7h2v10zm4 0h-2v-4h2v4z\"/>\n",
              "    </g>\n",
              "</svg>\n",
              "  </button>\n",
              "\n",
              "<style>\n",
              "  .colab-df-quickchart {\n",
              "      --bg-color: #E8F0FE;\n",
              "      --fill-color: #1967D2;\n",
              "      --hover-bg-color: #E2EBFA;\n",
              "      --hover-fill-color: #174EA6;\n",
              "      --disabled-fill-color: #AAA;\n",
              "      --disabled-bg-color: #DDD;\n",
              "  }\n",
              "\n",
              "  [theme=dark] .colab-df-quickchart {\n",
              "      --bg-color: #3B4455;\n",
              "      --fill-color: #D2E3FC;\n",
              "      --hover-bg-color: #434B5C;\n",
              "      --hover-fill-color: #FFFFFF;\n",
              "      --disabled-bg-color: #3B4455;\n",
              "      --disabled-fill-color: #666;\n",
              "  }\n",
              "\n",
              "  .colab-df-quickchart {\n",
              "    background-color: var(--bg-color);\n",
              "    border: none;\n",
              "    border-radius: 50%;\n",
              "    cursor: pointer;\n",
              "    display: none;\n",
              "    fill: var(--fill-color);\n",
              "    height: 32px;\n",
              "    padding: 0;\n",
              "    width: 32px;\n",
              "  }\n",
              "\n",
              "  .colab-df-quickchart:hover {\n",
              "    background-color: var(--hover-bg-color);\n",
              "    box-shadow: 0 1px 2px rgba(60, 64, 67, 0.3), 0 1px 3px 1px rgba(60, 64, 67, 0.15);\n",
              "    fill: var(--button-hover-fill-color);\n",
              "  }\n",
              "\n",
              "  .colab-df-quickchart-complete:disabled,\n",
              "  .colab-df-quickchart-complete:disabled:hover {\n",
              "    background-color: var(--disabled-bg-color);\n",
              "    fill: var(--disabled-fill-color);\n",
              "    box-shadow: none;\n",
              "  }\n",
              "\n",
              "  .colab-df-spinner {\n",
              "    border: 2px solid var(--fill-color);\n",
              "    border-color: transparent;\n",
              "    border-bottom-color: var(--fill-color);\n",
              "    animation:\n",
              "      spin 1s steps(1) infinite;\n",
              "  }\n",
              "\n",
              "  @keyframes spin {\n",
              "    0% {\n",
              "      border-color: transparent;\n",
              "      border-bottom-color: var(--fill-color);\n",
              "      border-left-color: var(--fill-color);\n",
              "    }\n",
              "    20% {\n",
              "      border-color: transparent;\n",
              "      border-left-color: var(--fill-color);\n",
              "      border-top-color: var(--fill-color);\n",
              "    }\n",
              "    30% {\n",
              "      border-color: transparent;\n",
              "      border-left-color: var(--fill-color);\n",
              "      border-top-color: var(--fill-color);\n",
              "      border-right-color: var(--fill-color);\n",
              "    }\n",
              "    40% {\n",
              "      border-color: transparent;\n",
              "      border-right-color: var(--fill-color);\n",
              "      border-top-color: var(--fill-color);\n",
              "    }\n",
              "    60% {\n",
              "      border-color: transparent;\n",
              "      border-right-color: var(--fill-color);\n",
              "    }\n",
              "    80% {\n",
              "      border-color: transparent;\n",
              "      border-right-color: var(--fill-color);\n",
              "      border-bottom-color: var(--fill-color);\n",
              "    }\n",
              "    90% {\n",
              "      border-color: transparent;\n",
              "      border-bottom-color: var(--fill-color);\n",
              "    }\n",
              "  }\n",
              "</style>\n",
              "\n",
              "  <script>\n",
              "    async function quickchart(key) {\n",
              "      const quickchartButtonEl =\n",
              "        document.querySelector('#' + key + ' button');\n",
              "      quickchartButtonEl.disabled = true;  // To prevent multiple clicks.\n",
              "      quickchartButtonEl.classList.add('colab-df-spinner');\n",
              "      try {\n",
              "        const charts = await google.colab.kernel.invokeFunction(\n",
              "            'suggestCharts', [key], {});\n",
              "      } catch (error) {\n",
              "        console.error('Error during call to suggestCharts:', error);\n",
              "      }\n",
              "      quickchartButtonEl.classList.remove('colab-df-spinner');\n",
              "      quickchartButtonEl.classList.add('colab-df-quickchart-complete');\n",
              "    }\n",
              "    (() => {\n",
              "      let quickchartButtonEl =\n",
              "        document.querySelector('#df-8a52659d-eb9f-4953-abe8-e2489a7d2e58 button');\n",
              "      quickchartButtonEl.style.display =\n",
              "        google.colab.kernel.accessAllowed ? 'block' : 'none';\n",
              "    })();\n",
              "  </script>\n",
              "</div>\n",
              "\n",
              "    </div>\n",
              "  </div>\n"
            ],
            "application/vnd.google.colaboratory.intrinsic+json": {
              "type": "dataframe",
              "variable_name": "data_full",
              "summary": "{\n  \"name\": \"data_full\",\n  \"rows\": 5476,\n  \"fields\": [\n    {\n      \"column\": \"Open\",\n      \"properties\": {\n        \"dtype\": \"number\",\n        \"std\": 1210.0487427060143,\n        \"min\": 1026.8699951171875,\n        \"max\": 5762.22021484375,\n        \"num_unique_values\": 3746,\n        \"samples\": [\n          4126.64990234375,\n          1858.9200439453125,\n          1307.3399658203125\n        ],\n        \"semantic_type\": \"\",\n        \"description\": \"\"\n      }\n    },\n    {\n      \"column\": \"High\",\n      \"properties\": {\n        \"dtype\": \"number\",\n        \"std\": 1216.6587557226374,\n        \"min\": 1030.5999755859375,\n        \"max\": 5767.3701171875,\n        \"num_unique_values\": 3740,\n        \"samples\": [\n          4132.7998046875,\n          1855.550048828125,\n          1329.3800048828125\n        ],\n        \"semantic_type\": \"\",\n        \"description\": \"\"\n      }\n    },\n    {\n      \"column\": \"Low\",\n      \"properties\": {\n        \"dtype\": \"number\",\n        \"std\": 1203.4130491813062,\n        \"min\": 1010.9099731445312,\n        \"max\": 5727.33984375,\n        \"num_unique_values\": 3752,\n        \"samples\": [\n          2615.320068359375,\n          1783.3800048828125,\n          3802.419921875\n        ],\n        \"semantic_type\": \"\",\n        \"description\": \"\"\n      }\n    },\n    {\n      \"column\": \"Close\",\n      \"properties\": {\n        \"dtype\": \"number\",\n        \"std\": 1210.4968674551003,\n        \"min\": 1022.5800170898438,\n        \"max\": 5745.3701171875,\n        \"num_unique_values\": 3755,\n        \"samples\": [\n          2663.419921875,\n          1800.9000244140625,\n          3808.10009765625\n        ],\n        \"semantic_type\": \"\",\n        \"description\": \"\"\n      }\n    },\n    {\n      \"column\": \"Adj Close\",\n      \"properties\": {\n        \"dtype\": \"number\",\n        \"std\": 1210.4968674551003,\n        \"min\": 1022.5800170898438,\n        \"max\": 5745.3701171875,\n        \"num_unique_values\": 3755,\n        \"samples\": [\n          2663.419921875,\n          1800.9000244140625,\n          3808.10009765625\n        ],\n        \"semantic_type\": \"\",\n        \"description\": \"\"\n      }\n    },\n    {\n      \"column\": \"Volume\",\n      \"properties\": {\n        \"dtype\": \"number\",\n        \"std\": 1044870600.7605898,\n        \"min\": 1025000000.0,\n        \"max\": 10617810000.0,\n        \"num_unique_values\": 3714,\n        \"samples\": [\n          3969070000.0,\n          2948380000.0,\n          4595380000.0\n        ],\n        \"semantic_type\": \"\",\n        \"description\": \"\"\n      }\n    }\n  ]\n}"
            }
          },
          "metadata": {},
          "execution_count": 7
        }
      ]
    },
    {
      "cell_type": "code",
      "source": [
        "from sklearn.preprocessing import MinMaxScaler\n",
        "scaler = MinMaxScaler()\n",
        "data_scaled = scaler.fit_transform(data_full[['Close', 'Volume']])"
      ],
      "metadata": {
        "id": "JWJMnaJHAaqB"
      },
      "execution_count": 8,
      "outputs": []
    },
    {
      "cell_type": "code",
      "source": [
        "import gymnasium as gym\n",
        "from gymnasium import spaces\n",
        "import numpy as np\n",
        "\n",
        "class TradingEnv(gym.Env):\n",
        "    def __init__(self, data, initial_balance=50000):\n",
        "        super(TradingEnv, self).__init__()\n",
        "\n",
        "        self.data = data\n",
        "        self.current_step = 0\n",
        "        self.initial_balance = initial_balance\n",
        "        self.balance = initial_balance\n",
        "        self.shares_held = 0\n",
        "        self.portfolio_value = self.balance\n",
        "\n",
        "        self.action_space = spaces.Discrete(3)  # Buy, Hold, Sell\n",
        "        self.observation_space = spaces.Box(low=-np.inf, high=np.inf, shape=(data.shape[1],), dtype=np.float32)\n",
        "\n",
        "    def reset(self, seed=None, return_info=False, options=None):\n",
        "        # Set the seed if provided\n",
        "        super().reset(seed=seed)\n",
        "\n",
        "        self.current_step = 0\n",
        "        self.balance = self.initial_balance\n",
        "        self.share_held = 0\n",
        "        self.portfolio_value = self.balance\n",
        "\n",
        "        # Return the initial observation and an optional info dict (empty for now)\n",
        "        if return_info:\n",
        "            return self.data[self.current_step], {}\n",
        "        else:\n",
        "            return self.data[self.current_step]\n",
        "\n",
        "\n",
        "    def step(self, action):\n",
        "        terminated = False\n",
        "        truncated = False\n",
        "\n",
        "        # Action: 0 = Hold, 1 = Buy, 2 = Sell\n",
        "        current_price = self.data[self.current_step, 0] # Assuming 'Close' price is the 1st column\n",
        "\n",
        "        # Action Logic\n",
        "        if action == 1: # Buy\n",
        "            if self.balance > 0: # Buy if you have cash available\n",
        "                self.shares_held = self.balance / current_price\n",
        "                self.balance = 0 # Cash becomes 0 after buying\n",
        "        elif action == 2: # Sell\n",
        "            if self.shares_held > 0: # Sell if you hold shares\n",
        "                self.balance = self.shares_held * current_price\n",
        "                self.shares_held = 0 # No more shares held after selling\n",
        "\n",
        "        # Update Portfolio Value\n",
        "        self.portfolio_value = self.balance + self.shares_held * current_price\n",
        "\n",
        "        # Reward is based on the portfolio value increase\n",
        "        reward = self.portfolio_value - self.initial_balance\n",
        "\n",
        "        # Move to the next step\n",
        "        self.current_step += 1\n",
        "\n",
        "        # End of data\n",
        "        if self.current_step >= len(self.data) - 1:\n",
        "            truncated = True\n",
        "\n",
        "        return self.data[self.current_step], reward, terminated, truncated, {}\n",
        "\n",
        "    def render(self):\n",
        "        # This can be customized to display the portfolio performance over time\n",
        "        print(f'Step: {self.current_step}')\n",
        "        print(f'Portfolio Value: {self.portfolio_value}')\n",
        "        print(f'Shares Held: {self.shares_held}')\n",
        "        print(f'Cash Balance: {self.balance}')"
      ],
      "metadata": {
        "id": "C673YB5WAsjf"
      },
      "execution_count": 35,
      "outputs": []
    },
    {
      "cell_type": "code",
      "source": [
        "!pip install gymnasium"
      ],
      "metadata": {
        "colab": {
          "base_uri": "https://localhost:8080/"
        },
        "id": "L6eFsb3pAwLD",
        "outputId": "87e64945-ac2c-45fa-a026-4ecad8bc6b6d"
      },
      "execution_count": 10,
      "outputs": [
        {
          "output_type": "stream",
          "name": "stdout",
          "text": [
            "Collecting gymnasium\n",
            "  Downloading gymnasium-0.29.1-py3-none-any.whl.metadata (10 kB)\n",
            "Requirement already satisfied: numpy>=1.21.0 in /usr/local/lib/python3.10/dist-packages (from gymnasium) (1.26.4)\n",
            "Requirement already satisfied: cloudpickle>=1.2.0 in /usr/local/lib/python3.10/dist-packages (from gymnasium) (2.2.1)\n",
            "Requirement already satisfied: typing-extensions>=4.3.0 in /usr/local/lib/python3.10/dist-packages (from gymnasium) (4.12.2)\n",
            "Collecting farama-notifications>=0.0.1 (from gymnasium)\n",
            "  Downloading Farama_Notifications-0.0.4-py3-none-any.whl.metadata (558 bytes)\n",
            "Downloading gymnasium-0.29.1-py3-none-any.whl (953 kB)\n",
            "\u001b[2K   \u001b[90m━━━━━━━━━━━━━━━━━━━━━━━━━━━━━━━━━━━━━━━━\u001b[0m \u001b[32m953.9/953.9 kB\u001b[0m \u001b[31m11.0 MB/s\u001b[0m eta \u001b[36m0:00:00\u001b[0m\n",
            "\u001b[?25hDownloading Farama_Notifications-0.0.4-py3-none-any.whl (2.5 kB)\n",
            "Installing collected packages: farama-notifications, gymnasium\n",
            "Successfully installed farama-notifications-0.0.4 gymnasium-0.29.1\n"
          ]
        }
      ]
    },
    {
      "cell_type": "code",
      "source": [
        "from stable_baselines3 import PPO\n",
        "\n",
        "env = TradingEnv(data_scaled)\n",
        "model = PPO(\"MlpPolicy\", env, verbose=1, learning_rate=1e-5)"
      ],
      "metadata": {
        "colab": {
          "base_uri": "https://localhost:8080/"
        },
        "id": "KWVPkG1jA3ds",
        "outputId": "695add33-e29a-4c9d-99cf-1087865e5cf2"
      },
      "execution_count": 39,
      "outputs": [
        {
          "output_type": "stream",
          "name": "stdout",
          "text": [
            "Using cpu device\n",
            "Wrapping the env with a `Monitor` wrapper\n",
            "Wrapping the env in a DummyVecEnv.\n"
          ]
        },
        {
          "output_type": "stream",
          "name": "stderr",
          "text": [
            "/usr/local/lib/python3.10/dist-packages/ipykernel/ipkernel.py:283: DeprecationWarning: `should_run_async` will not call `transform_cell` automatically in the future. Please pass the result to `transformed_cell` argument and any exception that happen during thetransform in `preprocessing_exc_tuple` in IPython 7.17 and above.\n",
            "  and should_run_async(code)\n"
          ]
        }
      ]
    },
    {
      "cell_type": "code",
      "source": [
        "data_scaled"
      ],
      "metadata": {
        "colab": {
          "base_uri": "https://localhost:8080/"
        },
        "id": "4dUn_73wD-UI",
        "outputId": "bbc5fff7-a629-43c5-cf9b-0a30b3c006bc"
      },
      "execution_count": 22,
      "outputs": [
        {
          "output_type": "stream",
          "name": "stderr",
          "text": [
            "/usr/local/lib/python3.10/dist-packages/ipykernel/ipkernel.py:283: DeprecationWarning: `should_run_async` will not call `transform_cell` automatically in the future. Please pass the result to `transformed_cell` argument and any exception that happen during thetransform in `preprocessing_exc_tuple` in IPython 7.17 and above.\n",
            "  and should_run_async(code)\n"
          ]
        },
        {
          "output_type": "execute_result",
          "data": {
            "text/plain": [
              "array([[1.53933551e-03, 4.96877349e-01],\n",
              "       [5.56862319e-04, 4.75172551e-01],\n",
              "       [5.56862319e-04, 4.75172551e-01],\n",
              "       ...,\n",
              "       [9.95106632e-01, 2.71026946e-01],\n",
              "       [1.00000000e+00, 3.50906564e-01],\n",
              "       [9.98475436e-01, 2.99550392e-01]])"
            ]
          },
          "metadata": {},
          "execution_count": 22
        }
      ]
    },
    {
      "cell_type": "code",
      "source": [
        "!pip install stable_baselines3"
      ],
      "metadata": {
        "colab": {
          "base_uri": "https://localhost:8080/"
        },
        "id": "X84ZdZymBAjK",
        "outputId": "a60a9c09-1acb-446a-f59e-06743ebc16b4"
      },
      "execution_count": 13,
      "outputs": [
        {
          "output_type": "stream",
          "name": "stdout",
          "text": [
            "Collecting stable_baselines3\n",
            "  Downloading stable_baselines3-2.3.2-py3-none-any.whl.metadata (5.1 kB)\n",
            "Requirement already satisfied: gymnasium<0.30,>=0.28.1 in /usr/local/lib/python3.10/dist-packages (from stable_baselines3) (0.29.1)\n",
            "Requirement already satisfied: numpy>=1.20 in /usr/local/lib/python3.10/dist-packages (from stable_baselines3) (1.26.4)\n",
            "Requirement already satisfied: torch>=1.13 in /usr/local/lib/python3.10/dist-packages (from stable_baselines3) (2.4.1+cu121)\n",
            "Requirement already satisfied: cloudpickle in /usr/local/lib/python3.10/dist-packages (from stable_baselines3) (2.2.1)\n",
            "Requirement already satisfied: pandas in /usr/local/lib/python3.10/dist-packages (from stable_baselines3) (2.1.4)\n",
            "Requirement already satisfied: matplotlib in /usr/local/lib/python3.10/dist-packages (from stable_baselines3) (3.7.1)\n",
            "Requirement already satisfied: typing-extensions>=4.3.0 in /usr/local/lib/python3.10/dist-packages (from gymnasium<0.30,>=0.28.1->stable_baselines3) (4.12.2)\n",
            "Requirement already satisfied: farama-notifications>=0.0.1 in /usr/local/lib/python3.10/dist-packages (from gymnasium<0.30,>=0.28.1->stable_baselines3) (0.0.4)\n",
            "Requirement already satisfied: filelock in /usr/local/lib/python3.10/dist-packages (from torch>=1.13->stable_baselines3) (3.16.1)\n",
            "Requirement already satisfied: sympy in /usr/local/lib/python3.10/dist-packages (from torch>=1.13->stable_baselines3) (1.13.3)\n",
            "Requirement already satisfied: networkx in /usr/local/lib/python3.10/dist-packages (from torch>=1.13->stable_baselines3) (3.3)\n",
            "Requirement already satisfied: jinja2 in /usr/local/lib/python3.10/dist-packages (from torch>=1.13->stable_baselines3) (3.1.4)\n",
            "Requirement already satisfied: fsspec in /usr/local/lib/python3.10/dist-packages (from torch>=1.13->stable_baselines3) (2024.6.1)\n",
            "Requirement already satisfied: contourpy>=1.0.1 in /usr/local/lib/python3.10/dist-packages (from matplotlib->stable_baselines3) (1.3.0)\n",
            "Requirement already satisfied: cycler>=0.10 in /usr/local/lib/python3.10/dist-packages (from matplotlib->stable_baselines3) (0.12.1)\n",
            "Requirement already satisfied: fonttools>=4.22.0 in /usr/local/lib/python3.10/dist-packages (from matplotlib->stable_baselines3) (4.53.1)\n",
            "Requirement already satisfied: kiwisolver>=1.0.1 in /usr/local/lib/python3.10/dist-packages (from matplotlib->stable_baselines3) (1.4.7)\n",
            "Requirement already satisfied: packaging>=20.0 in /usr/local/lib/python3.10/dist-packages (from matplotlib->stable_baselines3) (24.1)\n",
            "Requirement already satisfied: pillow>=6.2.0 in /usr/local/lib/python3.10/dist-packages (from matplotlib->stable_baselines3) (10.4.0)\n",
            "Requirement already satisfied: pyparsing>=2.3.1 in /usr/local/lib/python3.10/dist-packages (from matplotlib->stable_baselines3) (3.1.4)\n",
            "Requirement already satisfied: python-dateutil>=2.7 in /usr/local/lib/python3.10/dist-packages (from matplotlib->stable_baselines3) (2.8.2)\n",
            "Requirement already satisfied: pytz>=2020.1 in /usr/local/lib/python3.10/dist-packages (from pandas->stable_baselines3) (2024.2)\n",
            "Requirement already satisfied: tzdata>=2022.1 in /usr/local/lib/python3.10/dist-packages (from pandas->stable_baselines3) (2024.1)\n",
            "Requirement already satisfied: six>=1.5 in /usr/local/lib/python3.10/dist-packages (from python-dateutil>=2.7->matplotlib->stable_baselines3) (1.16.0)\n",
            "Requirement already satisfied: MarkupSafe>=2.0 in /usr/local/lib/python3.10/dist-packages (from jinja2->torch>=1.13->stable_baselines3) (2.1.5)\n",
            "Requirement already satisfied: mpmath<1.4,>=1.1.0 in /usr/local/lib/python3.10/dist-packages (from sympy->torch>=1.13->stable_baselines3) (1.3.0)\n",
            "Downloading stable_baselines3-2.3.2-py3-none-any.whl (182 kB)\n",
            "\u001b[2K   \u001b[90m━━━━━━━━━━━━━━━━━━━━━━━━━━━━━━━━━━━━━━━━\u001b[0m \u001b[32m182.3/182.3 kB\u001b[0m \u001b[31m3.3 MB/s\u001b[0m eta \u001b[36m0:00:00\u001b[0m\n",
            "\u001b[?25hInstalling collected packages: stable_baselines3\n",
            "Successfully installed stable_baselines3-2.3.2\n"
          ]
        }
      ]
    },
    {
      "cell_type": "code",
      "source": [
        "model.learn(total_timesteps=100000)\n",
        "model.save(\"ppo_trading_model\")\n",
        "\n",
        "rewards = []\n",
        "for _ in range(100):\n",
        "    obs = env.reset()\n",
        "    done = False\n",
        "    while not done:\n",
        "        action, _states = model.predict(obs)\n",
        "        obs, reward, done, info = env.step(action)\n",
        "        rewards.append(reward)\n",
        "\n",
        "\n"
      ],
      "metadata": {
        "colab": {
          "base_uri": "https://localhost:8080/",
          "height": 1000
        },
        "id": "fuPRMOGqBEK-",
        "outputId": "de1e04a6-d5e5-4799-e487-c591bf35ae90"
      },
      "execution_count": 40,
      "outputs": [
        {
          "output_type": "stream",
          "name": "stdout",
          "text": [
            "-----------------------------\n",
            "| time/              |      |\n",
            "|    fps             | 904  |\n",
            "|    iterations      | 1    |\n",
            "|    time_elapsed    | 2    |\n",
            "|    total_timesteps | 2048 |\n",
            "-----------------------------\n",
            "---------------------------------------\n",
            "| time/                   |           |\n",
            "|    fps                  | 662       |\n",
            "|    iterations           | 2         |\n",
            "|    time_elapsed         | 6         |\n",
            "|    total_timesteps      | 4096      |\n",
            "| train/                  |           |\n",
            "|    approx_kl            | 0.0       |\n",
            "|    clip_fraction        | 0         |\n",
            "|    clip_range           | 0.2       |\n",
            "|    entropy_loss         | -1.1      |\n",
            "|    explained_variance   | 0         |\n",
            "|    learning_rate        | 1e-05     |\n",
            "|    loss                 | 4.03e+11  |\n",
            "|    n_updates            | 10        |\n",
            "|    policy_gradient_loss | -5.06e-08 |\n",
            "|    value_loss           | 8.9e+11   |\n",
            "---------------------------------------\n",
            "---------------------------------------\n",
            "| rollout/                |           |\n",
            "|    ep_len_mean          | 5.48e+03  |\n",
            "|    ep_rew_mean          | -2.38e+08 |\n",
            "| time/                   |           |\n",
            "|    fps                  | 660       |\n",
            "|    iterations           | 3         |\n",
            "|    time_elapsed         | 9         |\n",
            "|    total_timesteps      | 6144      |\n",
            "| train/                  |           |\n",
            "|    approx_kl            | 0.0       |\n",
            "|    clip_fraction        | 0         |\n",
            "|    clip_range           | 0.2       |\n",
            "|    entropy_loss         | -1.1      |\n",
            "|    explained_variance   | -3.58e-07 |\n",
            "|    learning_rate        | 1e-05     |\n",
            "|    loss                 | 3.52e+11  |\n",
            "|    n_updates            | 20        |\n",
            "|    policy_gradient_loss | -0.000154 |\n",
            "|    value_loss           | 6.98e+11  |\n",
            "---------------------------------------\n",
            "---------------------------------------\n",
            "| rollout/                |           |\n",
            "|    ep_len_mean          | 5.48e+03  |\n",
            "|    ep_rew_mean          | -2.38e+08 |\n",
            "| time/                   |           |\n",
            "|    fps                  | 658       |\n",
            "|    iterations           | 4         |\n",
            "|    time_elapsed         | 12        |\n",
            "|    total_timesteps      | 8192      |\n",
            "| train/                  |           |\n",
            "|    approx_kl            | 0.0       |\n",
            "|    clip_fraction        | 0         |\n",
            "|    clip_range           | 0.2       |\n",
            "|    entropy_loss         | -1.1      |\n",
            "|    explained_variance   | 2.38e-07  |\n",
            "|    learning_rate        | 1e-05     |\n",
            "|    loss                 | 3.99e+11  |\n",
            "|    n_updates            | 30        |\n",
            "|    policy_gradient_loss | -8.62e-09 |\n",
            "|    value_loss           | 8.64e+11  |\n",
            "---------------------------------------\n",
            "---------------------------------------\n",
            "| rollout/                |           |\n",
            "|    ep_len_mean          | 5.48e+03  |\n",
            "|    ep_rew_mean          | -2.38e+08 |\n",
            "| time/                   |           |\n",
            "|    fps                  | 638       |\n",
            "|    iterations           | 5         |\n",
            "|    time_elapsed         | 16        |\n",
            "|    total_timesteps      | 10240     |\n",
            "| train/                  |           |\n",
            "|    approx_kl            | 0.0       |\n",
            "|    clip_fraction        | 0         |\n",
            "|    clip_range           | 0.2       |\n",
            "|    entropy_loss         | -1.1      |\n",
            "|    explained_variance   | -5.96e-07 |\n",
            "|    learning_rate        | 1e-05     |\n",
            "|    loss                 | 3.41e+11  |\n",
            "|    n_updates            | 40        |\n",
            "|    policy_gradient_loss | -7.29e-05 |\n",
            "|    value_loss           | 6.98e+11  |\n",
            "---------------------------------------\n",
            "---------------------------------------\n",
            "| rollout/                |           |\n",
            "|    ep_len_mean          | 5.48e+03  |\n",
            "|    ep_rew_mean          | -2.37e+08 |\n",
            "| time/                   |           |\n",
            "|    fps                  | 617       |\n",
            "|    iterations           | 6         |\n",
            "|    time_elapsed         | 19        |\n",
            "|    total_timesteps      | 12288     |\n",
            "| train/                  |           |\n",
            "|    approx_kl            | 0.0       |\n",
            "|    clip_fraction        | 0         |\n",
            "|    clip_range           | 0.2       |\n",
            "|    entropy_loss         | -1.1      |\n",
            "|    explained_variance   | -5.96e-07 |\n",
            "|    learning_rate        | 1e-05     |\n",
            "|    loss                 | 3.51e+11  |\n",
            "|    n_updates            | 50        |\n",
            "|    policy_gradient_loss | 4.01e-05  |\n",
            "|    value_loss           | 6.98e+11  |\n",
            "---------------------------------------\n",
            "---------------------------------------\n",
            "| rollout/                |           |\n",
            "|    ep_len_mean          | 5.48e+03  |\n",
            "|    ep_rew_mean          | -2.37e+08 |\n",
            "| time/                   |           |\n",
            "|    fps                  | 623       |\n",
            "|    iterations           | 7         |\n",
            "|    time_elapsed         | 22        |\n",
            "|    total_timesteps      | 14336     |\n",
            "| train/                  |           |\n",
            "|    approx_kl            | 0.0       |\n",
            "|    clip_fraction        | 0         |\n",
            "|    clip_range           | 0.2       |\n",
            "|    entropy_loss         | -1.1      |\n",
            "|    explained_variance   | -1.19e-07 |\n",
            "|    learning_rate        | 1e-05     |\n",
            "|    loss                 | 6.93e+13  |\n",
            "|    n_updates            | 60        |\n",
            "|    policy_gradient_loss | 2.56e-09  |\n",
            "|    value_loss           | 1.28e+14  |\n",
            "---------------------------------------\n",
            "---------------------------------------\n",
            "| rollout/                |           |\n",
            "|    ep_len_mean          | 5.48e+03  |\n",
            "|    ep_rew_mean          | -2.37e+08 |\n",
            "| time/                   |           |\n",
            "|    fps                  | 629       |\n",
            "|    iterations           | 8         |\n",
            "|    time_elapsed         | 26        |\n",
            "|    total_timesteps      | 16384     |\n",
            "| train/                  |           |\n",
            "|    approx_kl            | 0.0       |\n",
            "|    clip_fraction        | 0         |\n",
            "|    clip_range           | 0.2       |\n",
            "|    entropy_loss         | -1.1      |\n",
            "|    explained_variance   | -8.34e-07 |\n",
            "|    learning_rate        | 1e-05     |\n",
            "|    loss                 | 3.48e+11  |\n",
            "|    n_updates            | 70        |\n",
            "|    policy_gradient_loss | -0.000402 |\n",
            "|    value_loss           | 6.98e+11  |\n",
            "---------------------------------------\n",
            "---------------------------------------\n",
            "| rollout/                |           |\n",
            "|    ep_len_mean          | 5.48e+03  |\n",
            "|    ep_rew_mean          | -8.51e+07 |\n",
            "| time/                   |           |\n",
            "|    fps                  | 620       |\n",
            "|    iterations           | 9         |\n",
            "|    time_elapsed         | 29        |\n",
            "|    total_timesteps      | 18432     |\n",
            "| train/                  |           |\n",
            "|    approx_kl            | 0.0       |\n",
            "|    clip_fraction        | 0         |\n",
            "|    clip_range           | 0.2       |\n",
            "|    entropy_loss         | -1.1      |\n",
            "|    explained_variance   | -2.15e-06 |\n",
            "|    learning_rate        | 1e-05     |\n",
            "|    loss                 | 3.48e+11  |\n",
            "|    n_updates            | 80        |\n",
            "|    policy_gradient_loss | 3.27e-05  |\n",
            "|    value_loss           | 6.98e+11  |\n",
            "---------------------------------------\n",
            "---------------------------------------\n",
            "| rollout/                |           |\n",
            "|    ep_len_mean          | 5.48e+03  |\n",
            "|    ep_rew_mean          | -8.51e+07 |\n",
            "| time/                   |           |\n",
            "|    fps                  | 611       |\n",
            "|    iterations           | 10        |\n",
            "|    time_elapsed         | 33        |\n",
            "|    total_timesteps      | 20480     |\n",
            "| train/                  |           |\n",
            "|    approx_kl            | 0.0       |\n",
            "|    clip_fraction        | 0         |\n",
            "|    clip_range           | 0.2       |\n",
            "|    entropy_loss         | -1.1      |\n",
            "|    explained_variance   | 0         |\n",
            "|    learning_rate        | 1e-05     |\n",
            "|    loss                 | 8.97e+13  |\n",
            "|    n_updates            | 90        |\n",
            "|    policy_gradient_loss | 9.04e-09  |\n",
            "|    value_loss           | 1.83e+14  |\n",
            "---------------------------------------\n"
          ]
        },
        {
          "output_type": "stream",
          "name": "stderr",
          "text": [
            "<ipython-input-35-838c3ea11292>:45: RuntimeWarning: divide by zero encountered in scalar divide\n",
            "  self.shares_held = self.balance / current_price\n",
            "<ipython-input-35-838c3ea11292>:53: RuntimeWarning: invalid value encountered in scalar multiply\n",
            "  self.portfolio_value = self.balance + self.shares_held * current_price\n",
            "<ipython-input-35-838c3ea11292>:49: RuntimeWarning: invalid value encountered in scalar multiply\n",
            "  self.balance = self.shares_held * current_price\n"
          ]
        },
        {
          "output_type": "stream",
          "name": "stdout",
          "text": [
            "---------------------------------------\n",
            "| rollout/                |           |\n",
            "|    ep_len_mean          | 5.48e+03  |\n",
            "|    ep_rew_mean          | 1.85e+07  |\n",
            "| time/                   |           |\n",
            "|    fps                  | 615       |\n",
            "|    iterations           | 11        |\n",
            "|    time_elapsed         | 36        |\n",
            "|    total_timesteps      | 22528     |\n",
            "| train/                  |           |\n",
            "|    approx_kl            | 0.0       |\n",
            "|    clip_fraction        | 0         |\n",
            "|    clip_range           | 0.2       |\n",
            "|    entropy_loss         | -1.1      |\n",
            "|    explained_variance   | -1.79e-06 |\n",
            "|    learning_rate        | 1e-05     |\n",
            "|    loss                 | 3.52e+11  |\n",
            "|    n_updates            | 100       |\n",
            "|    policy_gradient_loss | 0.00183   |\n",
            "|    value_loss           | 6.98e+11  |\n",
            "---------------------------------------\n"
          ]
        },
        {
          "output_type": "error",
          "ename": "ValueError",
          "evalue": "Expected parameter logits (Tensor of shape (64, 3)) of distribution Categorical(logits: torch.Size([64, 3])) to satisfy the constraint IndependentConstraint(Real(), 1), but found invalid values:\ntensor([[nan, nan, nan],\n        [nan, nan, nan],\n        [nan, nan, nan],\n        [nan, nan, nan],\n        [nan, nan, nan],\n        [nan, nan, nan],\n        [nan, nan, nan],\n        [nan, nan, nan],\n        [nan, nan, nan],\n        [nan, nan, nan],\n        [nan, nan, nan],\n        [nan, nan, nan],\n        [nan, nan, nan],\n        [nan, nan, nan],\n        [nan, nan, nan],\n        [nan, nan, nan],\n        [nan, nan, nan],\n        [nan, nan, nan],\n        [nan, nan, nan],\n        [nan, nan, nan],\n        [nan, nan, nan],\n        [nan, nan, nan],\n        [nan, nan, nan],\n        [nan, nan, nan],\n        [nan, nan, nan],\n        [nan, nan, nan],\n        [nan, nan, nan],\n        [nan, nan, nan],\n        [nan, nan, nan],\n        [nan, nan, nan],\n        [nan, nan, nan],\n        [nan, nan, nan],\n        [nan, nan, nan],\n        [nan, nan, nan],\n        [nan, nan, nan],\n        [nan, nan, nan],\n        [nan, nan, nan],\n        [nan, nan, nan],\n        [nan, nan, nan],\n        [nan, nan, nan],\n        [nan, nan, nan],\n        [nan, nan, nan],\n        [nan, nan, nan],\n        [nan, nan, nan],\n        [nan, nan, nan],\n        [nan, nan, nan],\n        [nan, nan, nan],\n        [nan, nan, nan],\n        [nan, nan, nan],\n        [nan, nan, nan],\n        [nan, nan, nan],\n        [nan, nan, nan],\n        [nan, nan, nan],\n        [nan, nan, nan],\n        [nan, nan, nan],\n        [nan, nan, nan],\n        [nan, nan, nan],\n        [nan, nan, nan],\n        [nan, nan, nan],\n        [nan, nan, nan],\n        [nan, nan, nan],\n        [nan, nan, nan],\n        [nan, nan, nan],\n        [nan, nan, nan]], grad_fn=<SubBackward0>)",
          "traceback": [
            "\u001b[0;31m---------------------------------------------------------------------------\u001b[0m",
            "\u001b[0;31mValueError\u001b[0m                                Traceback (most recent call last)",
            "\u001b[0;32m<ipython-input-40-1ef3a74a2646>\u001b[0m in \u001b[0;36m<cell line: 1>\u001b[0;34m()\u001b[0m\n\u001b[0;32m----> 1\u001b[0;31m \u001b[0mmodel\u001b[0m\u001b[0;34m.\u001b[0m\u001b[0mlearn\u001b[0m\u001b[0;34m(\u001b[0m\u001b[0mtotal_timesteps\u001b[0m\u001b[0;34m=\u001b[0m\u001b[0;36m100000\u001b[0m\u001b[0;34m)\u001b[0m\u001b[0;34m\u001b[0m\u001b[0;34m\u001b[0m\u001b[0m\n\u001b[0m\u001b[1;32m      2\u001b[0m \u001b[0mmodel\u001b[0m\u001b[0;34m.\u001b[0m\u001b[0msave\u001b[0m\u001b[0;34m(\u001b[0m\u001b[0;34m\"ppo_trading_model\"\u001b[0m\u001b[0;34m)\u001b[0m\u001b[0;34m\u001b[0m\u001b[0;34m\u001b[0m\u001b[0m\n\u001b[1;32m      3\u001b[0m \u001b[0;34m\u001b[0m\u001b[0m\n\u001b[1;32m      4\u001b[0m \u001b[0mrewards\u001b[0m \u001b[0;34m=\u001b[0m \u001b[0;34m[\u001b[0m\u001b[0;34m]\u001b[0m\u001b[0;34m\u001b[0m\u001b[0;34m\u001b[0m\u001b[0m\n\u001b[1;32m      5\u001b[0m \u001b[0;32mfor\u001b[0m \u001b[0m_\u001b[0m \u001b[0;32min\u001b[0m \u001b[0mrange\u001b[0m\u001b[0;34m(\u001b[0m\u001b[0;36m100\u001b[0m\u001b[0;34m)\u001b[0m\u001b[0;34m:\u001b[0m\u001b[0;34m\u001b[0m\u001b[0;34m\u001b[0m\u001b[0m\n",
            "\u001b[0;32m/usr/local/lib/python3.10/dist-packages/stable_baselines3/ppo/ppo.py\u001b[0m in \u001b[0;36mlearn\u001b[0;34m(self, total_timesteps, callback, log_interval, tb_log_name, reset_num_timesteps, progress_bar)\u001b[0m\n\u001b[1;32m    313\u001b[0m         \u001b[0mprogress_bar\u001b[0m\u001b[0;34m:\u001b[0m \u001b[0mbool\u001b[0m \u001b[0;34m=\u001b[0m \u001b[0;32mFalse\u001b[0m\u001b[0;34m,\u001b[0m\u001b[0;34m\u001b[0m\u001b[0;34m\u001b[0m\u001b[0m\n\u001b[1;32m    314\u001b[0m     ) -> SelfPPO:\n\u001b[0;32m--> 315\u001b[0;31m         return super().learn(\n\u001b[0m\u001b[1;32m    316\u001b[0m             \u001b[0mtotal_timesteps\u001b[0m\u001b[0;34m=\u001b[0m\u001b[0mtotal_timesteps\u001b[0m\u001b[0;34m,\u001b[0m\u001b[0;34m\u001b[0m\u001b[0;34m\u001b[0m\u001b[0m\n\u001b[1;32m    317\u001b[0m             \u001b[0mcallback\u001b[0m\u001b[0;34m=\u001b[0m\u001b[0mcallback\u001b[0m\u001b[0;34m,\u001b[0m\u001b[0;34m\u001b[0m\u001b[0;34m\u001b[0m\u001b[0m\n",
            "\u001b[0;32m/usr/local/lib/python3.10/dist-packages/stable_baselines3/common/on_policy_algorithm.py\u001b[0m in \u001b[0;36mlearn\u001b[0;34m(self, total_timesteps, callback, log_interval, tb_log_name, reset_num_timesteps, progress_bar)\u001b[0m\n\u001b[1;32m    311\u001b[0m                 \u001b[0mself\u001b[0m\u001b[0;34m.\u001b[0m\u001b[0m_dump_logs\u001b[0m\u001b[0;34m(\u001b[0m\u001b[0miteration\u001b[0m\u001b[0;34m)\u001b[0m\u001b[0;34m\u001b[0m\u001b[0;34m\u001b[0m\u001b[0m\n\u001b[1;32m    312\u001b[0m \u001b[0;34m\u001b[0m\u001b[0m\n\u001b[0;32m--> 313\u001b[0;31m             \u001b[0mself\u001b[0m\u001b[0;34m.\u001b[0m\u001b[0mtrain\u001b[0m\u001b[0;34m(\u001b[0m\u001b[0;34m)\u001b[0m\u001b[0;34m\u001b[0m\u001b[0;34m\u001b[0m\u001b[0m\n\u001b[0m\u001b[1;32m    314\u001b[0m \u001b[0;34m\u001b[0m\u001b[0m\n\u001b[1;32m    315\u001b[0m         \u001b[0mcallback\u001b[0m\u001b[0;34m.\u001b[0m\u001b[0mon_training_end\u001b[0m\u001b[0;34m(\u001b[0m\u001b[0;34m)\u001b[0m\u001b[0;34m\u001b[0m\u001b[0;34m\u001b[0m\u001b[0m\n",
            "\u001b[0;32m/usr/local/lib/python3.10/dist-packages/stable_baselines3/ppo/ppo.py\u001b[0m in \u001b[0;36mtrain\u001b[0;34m(self)\u001b[0m\n\u001b[1;32m    215\u001b[0m                     \u001b[0mself\u001b[0m\u001b[0;34m.\u001b[0m\u001b[0mpolicy\u001b[0m\u001b[0;34m.\u001b[0m\u001b[0mreset_noise\u001b[0m\u001b[0;34m(\u001b[0m\u001b[0mself\u001b[0m\u001b[0;34m.\u001b[0m\u001b[0mbatch_size\u001b[0m\u001b[0;34m)\u001b[0m\u001b[0;34m\u001b[0m\u001b[0;34m\u001b[0m\u001b[0m\n\u001b[1;32m    216\u001b[0m \u001b[0;34m\u001b[0m\u001b[0m\n\u001b[0;32m--> 217\u001b[0;31m                 \u001b[0mvalues\u001b[0m\u001b[0;34m,\u001b[0m \u001b[0mlog_prob\u001b[0m\u001b[0;34m,\u001b[0m \u001b[0mentropy\u001b[0m \u001b[0;34m=\u001b[0m \u001b[0mself\u001b[0m\u001b[0;34m.\u001b[0m\u001b[0mpolicy\u001b[0m\u001b[0;34m.\u001b[0m\u001b[0mevaluate_actions\u001b[0m\u001b[0;34m(\u001b[0m\u001b[0mrollout_data\u001b[0m\u001b[0;34m.\u001b[0m\u001b[0mobservations\u001b[0m\u001b[0;34m,\u001b[0m \u001b[0mactions\u001b[0m\u001b[0;34m)\u001b[0m\u001b[0;34m\u001b[0m\u001b[0;34m\u001b[0m\u001b[0m\n\u001b[0m\u001b[1;32m    218\u001b[0m                 \u001b[0mvalues\u001b[0m \u001b[0;34m=\u001b[0m \u001b[0mvalues\u001b[0m\u001b[0;34m.\u001b[0m\u001b[0mflatten\u001b[0m\u001b[0;34m(\u001b[0m\u001b[0;34m)\u001b[0m\u001b[0;34m\u001b[0m\u001b[0;34m\u001b[0m\u001b[0m\n\u001b[1;32m    219\u001b[0m                 \u001b[0;31m# Normalize advantage\u001b[0m\u001b[0;34m\u001b[0m\u001b[0;34m\u001b[0m\u001b[0m\n",
            "\u001b[0;32m/usr/local/lib/python3.10/dist-packages/stable_baselines3/common/policies.py\u001b[0m in \u001b[0;36mevaluate_actions\u001b[0;34m(self, obs, actions)\u001b[0m\n\u001b[1;32m    735\u001b[0m             \u001b[0mlatent_pi\u001b[0m \u001b[0;34m=\u001b[0m \u001b[0mself\u001b[0m\u001b[0;34m.\u001b[0m\u001b[0mmlp_extractor\u001b[0m\u001b[0;34m.\u001b[0m\u001b[0mforward_actor\u001b[0m\u001b[0;34m(\u001b[0m\u001b[0mpi_features\u001b[0m\u001b[0;34m)\u001b[0m\u001b[0;34m\u001b[0m\u001b[0;34m\u001b[0m\u001b[0m\n\u001b[1;32m    736\u001b[0m             \u001b[0mlatent_vf\u001b[0m \u001b[0;34m=\u001b[0m \u001b[0mself\u001b[0m\u001b[0;34m.\u001b[0m\u001b[0mmlp_extractor\u001b[0m\u001b[0;34m.\u001b[0m\u001b[0mforward_critic\u001b[0m\u001b[0;34m(\u001b[0m\u001b[0mvf_features\u001b[0m\u001b[0;34m)\u001b[0m\u001b[0;34m\u001b[0m\u001b[0;34m\u001b[0m\u001b[0m\n\u001b[0;32m--> 737\u001b[0;31m         \u001b[0mdistribution\u001b[0m \u001b[0;34m=\u001b[0m \u001b[0mself\u001b[0m\u001b[0;34m.\u001b[0m\u001b[0m_get_action_dist_from_latent\u001b[0m\u001b[0;34m(\u001b[0m\u001b[0mlatent_pi\u001b[0m\u001b[0;34m)\u001b[0m\u001b[0;34m\u001b[0m\u001b[0;34m\u001b[0m\u001b[0m\n\u001b[0m\u001b[1;32m    738\u001b[0m         \u001b[0mlog_prob\u001b[0m \u001b[0;34m=\u001b[0m \u001b[0mdistribution\u001b[0m\u001b[0;34m.\u001b[0m\u001b[0mlog_prob\u001b[0m\u001b[0;34m(\u001b[0m\u001b[0mactions\u001b[0m\u001b[0;34m)\u001b[0m\u001b[0;34m\u001b[0m\u001b[0;34m\u001b[0m\u001b[0m\n\u001b[1;32m    739\u001b[0m         \u001b[0mvalues\u001b[0m \u001b[0;34m=\u001b[0m \u001b[0mself\u001b[0m\u001b[0;34m.\u001b[0m\u001b[0mvalue_net\u001b[0m\u001b[0;34m(\u001b[0m\u001b[0mlatent_vf\u001b[0m\u001b[0;34m)\u001b[0m\u001b[0;34m\u001b[0m\u001b[0;34m\u001b[0m\u001b[0m\n",
            "\u001b[0;32m/usr/local/lib/python3.10/dist-packages/stable_baselines3/common/policies.py\u001b[0m in \u001b[0;36m_get_action_dist_from_latent\u001b[0;34m(self, latent_pi)\u001b[0m\n\u001b[1;32m    695\u001b[0m         \u001b[0;32melif\u001b[0m \u001b[0misinstance\u001b[0m\u001b[0;34m(\u001b[0m\u001b[0mself\u001b[0m\u001b[0;34m.\u001b[0m\u001b[0maction_dist\u001b[0m\u001b[0;34m,\u001b[0m \u001b[0mCategoricalDistribution\u001b[0m\u001b[0;34m)\u001b[0m\u001b[0;34m:\u001b[0m\u001b[0;34m\u001b[0m\u001b[0;34m\u001b[0m\u001b[0m\n\u001b[1;32m    696\u001b[0m             \u001b[0;31m# Here mean_actions are the logits before the softmax\u001b[0m\u001b[0;34m\u001b[0m\u001b[0;34m\u001b[0m\u001b[0m\n\u001b[0;32m--> 697\u001b[0;31m             \u001b[0;32mreturn\u001b[0m \u001b[0mself\u001b[0m\u001b[0;34m.\u001b[0m\u001b[0maction_dist\u001b[0m\u001b[0;34m.\u001b[0m\u001b[0mproba_distribution\u001b[0m\u001b[0;34m(\u001b[0m\u001b[0maction_logits\u001b[0m\u001b[0;34m=\u001b[0m\u001b[0mmean_actions\u001b[0m\u001b[0;34m)\u001b[0m\u001b[0;34m\u001b[0m\u001b[0;34m\u001b[0m\u001b[0m\n\u001b[0m\u001b[1;32m    698\u001b[0m         \u001b[0;32melif\u001b[0m \u001b[0misinstance\u001b[0m\u001b[0;34m(\u001b[0m\u001b[0mself\u001b[0m\u001b[0;34m.\u001b[0m\u001b[0maction_dist\u001b[0m\u001b[0;34m,\u001b[0m \u001b[0mMultiCategoricalDistribution\u001b[0m\u001b[0;34m)\u001b[0m\u001b[0;34m:\u001b[0m\u001b[0;34m\u001b[0m\u001b[0;34m\u001b[0m\u001b[0m\n\u001b[1;32m    699\u001b[0m             \u001b[0;31m# Here mean_actions are the flattened logits\u001b[0m\u001b[0;34m\u001b[0m\u001b[0;34m\u001b[0m\u001b[0m\n",
            "\u001b[0;32m/usr/local/lib/python3.10/dist-packages/stable_baselines3/common/distributions.py\u001b[0m in \u001b[0;36mproba_distribution\u001b[0;34m(self, action_logits)\u001b[0m\n\u001b[1;32m    286\u001b[0m \u001b[0;34m\u001b[0m\u001b[0m\n\u001b[1;32m    287\u001b[0m     \u001b[0;32mdef\u001b[0m \u001b[0mproba_distribution\u001b[0m\u001b[0;34m(\u001b[0m\u001b[0mself\u001b[0m\u001b[0;34m:\u001b[0m \u001b[0mSelfCategoricalDistribution\u001b[0m\u001b[0;34m,\u001b[0m \u001b[0maction_logits\u001b[0m\u001b[0;34m:\u001b[0m \u001b[0mth\u001b[0m\u001b[0;34m.\u001b[0m\u001b[0mTensor\u001b[0m\u001b[0;34m)\u001b[0m \u001b[0;34m->\u001b[0m \u001b[0mSelfCategoricalDistribution\u001b[0m\u001b[0;34m:\u001b[0m\u001b[0;34m\u001b[0m\u001b[0;34m\u001b[0m\u001b[0m\n\u001b[0;32m--> 288\u001b[0;31m         \u001b[0mself\u001b[0m\u001b[0;34m.\u001b[0m\u001b[0mdistribution\u001b[0m \u001b[0;34m=\u001b[0m \u001b[0mCategorical\u001b[0m\u001b[0;34m(\u001b[0m\u001b[0mlogits\u001b[0m\u001b[0;34m=\u001b[0m\u001b[0maction_logits\u001b[0m\u001b[0;34m)\u001b[0m\u001b[0;34m\u001b[0m\u001b[0;34m\u001b[0m\u001b[0m\n\u001b[0m\u001b[1;32m    289\u001b[0m         \u001b[0;32mreturn\u001b[0m \u001b[0mself\u001b[0m\u001b[0;34m\u001b[0m\u001b[0;34m\u001b[0m\u001b[0m\n\u001b[1;32m    290\u001b[0m \u001b[0;34m\u001b[0m\u001b[0m\n",
            "\u001b[0;32m/usr/local/lib/python3.10/dist-packages/torch/distributions/categorical.py\u001b[0m in \u001b[0;36m__init__\u001b[0;34m(self, probs, logits, validate_args)\u001b[0m\n\u001b[1;32m     69\u001b[0m             \u001b[0mself\u001b[0m\u001b[0;34m.\u001b[0m\u001b[0m_param\u001b[0m\u001b[0;34m.\u001b[0m\u001b[0msize\u001b[0m\u001b[0;34m(\u001b[0m\u001b[0;34m)\u001b[0m\u001b[0;34m[\u001b[0m\u001b[0;34m:\u001b[0m\u001b[0;34m-\u001b[0m\u001b[0;36m1\u001b[0m\u001b[0;34m]\u001b[0m \u001b[0;32mif\u001b[0m \u001b[0mself\u001b[0m\u001b[0;34m.\u001b[0m\u001b[0m_param\u001b[0m\u001b[0;34m.\u001b[0m\u001b[0mndimension\u001b[0m\u001b[0;34m(\u001b[0m\u001b[0;34m)\u001b[0m \u001b[0;34m>\u001b[0m \u001b[0;36m1\u001b[0m \u001b[0;32melse\u001b[0m \u001b[0mtorch\u001b[0m\u001b[0;34m.\u001b[0m\u001b[0mSize\u001b[0m\u001b[0;34m(\u001b[0m\u001b[0;34m)\u001b[0m\u001b[0;34m\u001b[0m\u001b[0;34m\u001b[0m\u001b[0m\n\u001b[1;32m     70\u001b[0m         )\n\u001b[0;32m---> 71\u001b[0;31m         \u001b[0msuper\u001b[0m\u001b[0;34m(\u001b[0m\u001b[0;34m)\u001b[0m\u001b[0;34m.\u001b[0m\u001b[0m__init__\u001b[0m\u001b[0;34m(\u001b[0m\u001b[0mbatch_shape\u001b[0m\u001b[0;34m,\u001b[0m \u001b[0mvalidate_args\u001b[0m\u001b[0;34m=\u001b[0m\u001b[0mvalidate_args\u001b[0m\u001b[0;34m)\u001b[0m\u001b[0;34m\u001b[0m\u001b[0;34m\u001b[0m\u001b[0m\n\u001b[0m\u001b[1;32m     72\u001b[0m \u001b[0;34m\u001b[0m\u001b[0m\n\u001b[1;32m     73\u001b[0m     \u001b[0;32mdef\u001b[0m \u001b[0mexpand\u001b[0m\u001b[0;34m(\u001b[0m\u001b[0mself\u001b[0m\u001b[0;34m,\u001b[0m \u001b[0mbatch_shape\u001b[0m\u001b[0;34m,\u001b[0m \u001b[0m_instance\u001b[0m\u001b[0;34m=\u001b[0m\u001b[0;32mNone\u001b[0m\u001b[0;34m)\u001b[0m\u001b[0;34m:\u001b[0m\u001b[0;34m\u001b[0m\u001b[0;34m\u001b[0m\u001b[0m\n",
            "\u001b[0;32m/usr/local/lib/python3.10/dist-packages/torch/distributions/distribution.py\u001b[0m in \u001b[0;36m__init__\u001b[0;34m(self, batch_shape, event_shape, validate_args)\u001b[0m\n\u001b[1;32m     68\u001b[0m                 \u001b[0mvalid\u001b[0m \u001b[0;34m=\u001b[0m \u001b[0mconstraint\u001b[0m\u001b[0;34m.\u001b[0m\u001b[0mcheck\u001b[0m\u001b[0;34m(\u001b[0m\u001b[0mvalue\u001b[0m\u001b[0;34m)\u001b[0m\u001b[0;34m\u001b[0m\u001b[0;34m\u001b[0m\u001b[0m\n\u001b[1;32m     69\u001b[0m                 \u001b[0;32mif\u001b[0m \u001b[0;32mnot\u001b[0m \u001b[0mvalid\u001b[0m\u001b[0;34m.\u001b[0m\u001b[0mall\u001b[0m\u001b[0;34m(\u001b[0m\u001b[0;34m)\u001b[0m\u001b[0;34m:\u001b[0m\u001b[0;34m\u001b[0m\u001b[0;34m\u001b[0m\u001b[0m\n\u001b[0;32m---> 70\u001b[0;31m                     raise ValueError(\n\u001b[0m\u001b[1;32m     71\u001b[0m                         \u001b[0;34mf\"Expected parameter {param} \"\u001b[0m\u001b[0;34m\u001b[0m\u001b[0;34m\u001b[0m\u001b[0m\n\u001b[1;32m     72\u001b[0m                         \u001b[0;34mf\"({type(value).__name__} of shape {tuple(value.shape)}) \"\u001b[0m\u001b[0;34m\u001b[0m\u001b[0;34m\u001b[0m\u001b[0m\n",
            "\u001b[0;31mValueError\u001b[0m: Expected parameter logits (Tensor of shape (64, 3)) of distribution Categorical(logits: torch.Size([64, 3])) to satisfy the constraint IndependentConstraint(Real(), 1), but found invalid values:\ntensor([[nan, nan, nan],\n        [nan, nan, nan],\n        [nan, nan, nan],\n        [nan, nan, nan],\n        [nan, nan, nan],\n        [nan, nan, nan],\n        [nan, nan, nan],\n        [nan, nan, nan],\n        [nan, nan, nan],\n        [nan, nan, nan],\n        [nan, nan, nan],\n        [nan, nan, nan],\n        [nan, nan, nan],\n        [nan, nan, nan],\n        [nan, nan, nan],\n        [nan, nan, nan],\n        [nan, nan, nan],\n        [nan, nan, nan],\n        [nan, nan, nan],\n        [nan, nan, nan],\n        [nan, nan, nan],\n        [nan, nan, nan],\n        [nan, nan, nan],\n        [nan, nan, nan],\n        [nan, nan, nan],\n        [nan, nan, nan],\n        [nan, nan, nan],\n        [nan, nan, nan],\n        [nan, nan, nan],\n        [nan, nan, nan],\n        [nan, nan, nan],\n        [nan, nan, nan],\n        [nan, nan, nan],\n        [nan, nan, nan],\n        [nan, nan, nan],\n        [nan, nan, nan],\n        [nan, nan, nan],\n        [nan, nan, nan],\n        [nan, nan, nan],\n        [nan, nan, nan],\n        [nan, nan, nan],\n        [nan, nan, nan],\n        [nan, nan, nan],\n        [nan, nan, nan],\n        [nan, nan, nan],\n        [nan, nan, nan],\n        [nan, nan, nan],\n        [nan, nan, nan],\n        [nan, nan, nan],\n        [nan, nan, nan],\n        [nan, nan, nan],\n        [nan, nan, nan],\n        [nan, nan, nan],\n        [nan, nan, nan],\n        [nan, nan, nan],\n        [nan, nan, nan],\n        [nan, nan, nan],\n        [nan, nan, nan],\n        [nan, nan, nan],\n        [nan, nan, nan],\n        [nan, nan, nan],\n        [nan, nan, nan],\n        [nan, nan, nan],\n        [nan, nan, nan]], grad_fn=<SubBackward0>)"
          ]
        }
      ]
    },
    {
      "cell_type": "code",
      "source": [
        "data_scaled.shape"
      ],
      "metadata": {
        "colab": {
          "base_uri": "https://localhost:8080/"
        },
        "id": "EIE6dSzDBxo2",
        "outputId": "5ac26f93-5e54-4ad0-d132-e039be761215"
      },
      "execution_count": 23,
      "outputs": [
        {
          "output_type": "stream",
          "name": "stderr",
          "text": [
            "/usr/local/lib/python3.10/dist-packages/ipykernel/ipkernel.py:283: DeprecationWarning: `should_run_async` will not call `transform_cell` automatically in the future. Please pass the result to `transformed_cell` argument and any exception that happen during thetransform in `preprocessing_exc_tuple` in IPython 7.17 and above.\n",
            "  and should_run_async(code)\n"
          ]
        },
        {
          "output_type": "execute_result",
          "data": {
            "text/plain": [
              "(5476, 2)"
            ]
          },
          "metadata": {},
          "execution_count": 23
        }
      ]
    },
    {
      "cell_type": "code",
      "source": [
        "if np.isnan(data_scaled).any():\n",
        "  print(\"NaN values found in data_scaled\")\n",
        "else:\n",
        "  print(\"No NaN values found in data_scaled\")"
      ],
      "metadata": {
        "colab": {
          "base_uri": "https://localhost:8080/"
        },
        "id": "mtgrL66PGJbB",
        "outputId": "e9888eda-c58b-47cb-bd22-252145b556e7"
      },
      "execution_count": 38,
      "outputs": [
        {
          "output_type": "stream",
          "name": "stdout",
          "text": [
            "No NaN values found in data_scaled\n"
          ]
        },
        {
          "output_type": "stream",
          "name": "stderr",
          "text": [
            "/usr/local/lib/python3.10/dist-packages/ipykernel/ipkernel.py:283: DeprecationWarning: `should_run_async` will not call `transform_cell` automatically in the future. Please pass the result to `transformed_cell` argument and any exception that happen during thetransform in `preprocessing_exc_tuple` in IPython 7.17 and above.\n",
            "  and should_run_async(code)\n"
          ]
        }
      ]
    },
    {
      "cell_type": "code",
      "source": [
        "!git --version"
      ],
      "metadata": {
        "colab": {
          "base_uri": "https://localhost:8080/"
        },
        "id": "M3EnSPHyJpNJ",
        "outputId": "91c33f27-a6fb-4f73-8f01-eb300f669a43"
      },
      "execution_count": 41,
      "outputs": [
        {
          "output_type": "stream",
          "name": "stdout",
          "text": [
            "git version 2.34.1\n"
          ]
        },
        {
          "output_type": "stream",
          "name": "stderr",
          "text": [
            "/usr/local/lib/python3.10/dist-packages/ipykernel/ipkernel.py:283: DeprecationWarning: `should_run_async` will not call `transform_cell` automatically in the future. Please pass the result to `transformed_cell` argument and any exception that happen during thetransform in `preprocessing_exc_tuple` in IPython 7.17 and above.\n",
            "  and should_run_async(code)\n"
          ]
        }
      ]
    },
    {
      "cell_type": "code",
      "source": [
        "!git clone https://github.com/cody-mckeon/Reinforcement_Learning_Trading.git"
      ],
      "metadata": {
        "colab": {
          "base_uri": "https://localhost:8080/"
        },
        "id": "vrrTpL__LKYT",
        "outputId": "a433e94b-74d5-42c1-fba5-910db9024454"
      },
      "execution_count": 42,
      "outputs": [
        {
          "output_type": "stream",
          "name": "stderr",
          "text": [
            "/usr/local/lib/python3.10/dist-packages/ipykernel/ipkernel.py:283: DeprecationWarning: `should_run_async` will not call `transform_cell` automatically in the future. Please pass the result to `transformed_cell` argument and any exception that happen during thetransform in `preprocessing_exc_tuple` in IPython 7.17 and above.\n",
            "  and should_run_async(code)\n"
          ]
        },
        {
          "output_type": "stream",
          "name": "stdout",
          "text": [
            "Cloning into 'Reinforcement_Learning_Trading'...\n",
            "remote: Enumerating objects: 11, done.\u001b[K\n",
            "remote: Counting objects: 100% (11/11), done.\u001b[K\n",
            "remote: Compressing objects: 100% (8/8), done.\u001b[K\n",
            "remote: Total 11 (delta 3), reused 9 (delta 1), pack-reused 0 (from 0)\u001b[K\n",
            "Receiving objects: 100% (11/11), 9.35 KiB | 683.00 KiB/s, done.\n",
            "Resolving deltas: 100% (3/3), done.\n"
          ]
        }
      ]
    },
    {
      "cell_type": "code",
      "source": [
        "!ls"
      ],
      "metadata": {
        "colab": {
          "base_uri": "https://localhost:8080/"
        },
        "id": "7dcXIlb3LUi7",
        "outputId": "1f24ae0a-5911-46a8-ff7c-ef9c9cee046f"
      },
      "execution_count": 43,
      "outputs": [
        {
          "output_type": "stream",
          "name": "stdout",
          "text": [
            "Reinforcement_Learning_Trading\tsample_data\n"
          ]
        },
        {
          "output_type": "stream",
          "name": "stderr",
          "text": [
            "/usr/local/lib/python3.10/dist-packages/ipykernel/ipkernel.py:283: DeprecationWarning: `should_run_async` will not call `transform_cell` automatically in the future. Please pass the result to `transformed_cell` argument and any exception that happen during thetransform in `preprocessing_exc_tuple` in IPython 7.17 and above.\n",
            "  and should_run_async(code)\n"
          ]
        }
      ]
    },
    {
      "cell_type": "code",
      "source": [
        "!cd Reinforcement_Learning_Trading/"
      ],
      "metadata": {
        "colab": {
          "base_uri": "https://localhost:8080/"
        },
        "id": "cukn0Nv_LxD2",
        "outputId": "ba52daa1-b24a-4cfb-94fd-dd4af731f68d"
      },
      "execution_count": 44,
      "outputs": [
        {
          "output_type": "stream",
          "name": "stderr",
          "text": [
            "/usr/local/lib/python3.10/dist-packages/ipykernel/ipkernel.py:283: DeprecationWarning: `should_run_async` will not call `transform_cell` automatically in the future. Please pass the result to `transformed_cell` argument and any exception that happen during thetransform in `preprocessing_exc_tuple` in IPython 7.17 and above.\n",
            "  and should_run_async(code)\n"
          ]
        }
      ]
    },
    {
      "cell_type": "code",
      "source": [
        "!mv /content/rl_trading.ipynb /content/cody-mckeon/Reinforcement_Learning_Trading.git\n"
      ],
      "metadata": {
        "colab": {
          "base_uri": "https://localhost:8080/"
        },
        "id": "wHYBnMFrL1Km",
        "outputId": "d72fd67b-b69a-420e-b680-ec2672ed386e"
      },
      "execution_count": 45,
      "outputs": [
        {
          "output_type": "stream",
          "name": "stdout",
          "text": [
            "mv: cannot stat '/content/rl_trading.ipynb': No such file or directory\n"
          ]
        }
      ]
    },
    {
      "cell_type": "code",
      "source": [
        "!ls"
      ],
      "metadata": {
        "colab": {
          "base_uri": "https://localhost:8080/"
        },
        "id": "2uMnE_IeMD0Z",
        "outputId": "6a8833b1-ab7f-4257-c27c-09c25839add2"
      },
      "execution_count": 46,
      "outputs": [
        {
          "output_type": "stream",
          "name": "stdout",
          "text": [
            "Reinforcement_Learning_Trading\tsample_data\n"
          ]
        },
        {
          "output_type": "stream",
          "name": "stderr",
          "text": [
            "/usr/local/lib/python3.10/dist-packages/ipykernel/ipkernel.py:283: DeprecationWarning: `should_run_async` will not call `transform_cell` automatically in the future. Please pass the result to `transformed_cell` argument and any exception that happen during thetransform in `preprocessing_exc_tuple` in IPython 7.17 and above.\n",
            "  and should_run_async(code)\n"
          ]
        }
      ]
    },
    {
      "cell_type": "code",
      "source": [
        "!cd Reinforcement_Learning_Trading/\n",
        "!ls"
      ],
      "metadata": {
        "colab": {
          "base_uri": "https://localhost:8080/"
        },
        "id": "t-5TLRA4MFjO",
        "outputId": "e1f415ec-f366-402a-9d85-01a9163b16df"
      },
      "execution_count": 47,
      "outputs": [
        {
          "output_type": "stream",
          "name": "stderr",
          "text": [
            "/usr/local/lib/python3.10/dist-packages/ipykernel/ipkernel.py:283: DeprecationWarning: `should_run_async` will not call `transform_cell` automatically in the future. Please pass the result to `transformed_cell` argument and any exception that happen during thetransform in `preprocessing_exc_tuple` in IPython 7.17 and above.\n",
            "  and should_run_async(code)\n"
          ]
        },
        {
          "output_type": "stream",
          "name": "stdout",
          "text": [
            "Reinforcement_Learning_Trading\tsample_data\n"
          ]
        }
      ]
    },
    {
      "cell_type": "code",
      "source": [
        "!git config --global user.name \"cody-mckeon\"\n",
        "!git config --global user.email \"codymckeon@gmail.com\""
      ],
      "metadata": {
        "colab": {
          "base_uri": "https://localhost:8080/"
        },
        "id": "TVFIEmofMLHQ",
        "outputId": "4259e060-5447-4c3c-f829-fcbd64a43c2c"
      },
      "execution_count": 48,
      "outputs": [
        {
          "output_type": "stream",
          "name": "stderr",
          "text": [
            "/usr/local/lib/python3.10/dist-packages/ipykernel/ipkernel.py:283: DeprecationWarning: `should_run_async` will not call `transform_cell` automatically in the future. Please pass the result to `transformed_cell` argument and any exception that happen during thetransform in `preprocessing_exc_tuple` in IPython 7.17 and above.\n",
            "  and should_run_async(code)\n"
          ]
        }
      ]
    },
    {
      "cell_type": "code",
      "source": [
        "!git clone https://github.com/cody-mckeon/Reinforcement_Learning_Trading.git"
      ],
      "metadata": {
        "colab": {
          "base_uri": "https://localhost:8080/"
        },
        "id": "xEYC4dqENApN",
        "outputId": "b14db259-9f70-4fa2-ca7d-544642d48f4d"
      },
      "execution_count": 49,
      "outputs": [
        {
          "output_type": "stream",
          "name": "stdout",
          "text": [
            "fatal: destination path 'Reinforcement_Learning_Trading' already exists and is not an empty directory.\n"
          ]
        }
      ]
    },
    {
      "cell_type": "code",
      "source": [
        "%cd Reinforcement_Learning_Trading/"
      ],
      "metadata": {
        "colab": {
          "base_uri": "https://localhost:8080/"
        },
        "id": "BYAFWKe9NcPk",
        "outputId": "8b195c69-1691-46e4-9937-020d3b986661"
      },
      "execution_count": 50,
      "outputs": [
        {
          "output_type": "stream",
          "name": "stdout",
          "text": [
            "/content/Reinforcement_Learning_Trading\n"
          ]
        },
        {
          "output_type": "stream",
          "name": "stderr",
          "text": [
            "/usr/local/lib/python3.10/dist-packages/ipykernel/ipkernel.py:283: DeprecationWarning: `should_run_async` will not call `transform_cell` automatically in the future. Please pass the result to `transformed_cell` argument and any exception that happen during thetransform in `preprocessing_exc_tuple` in IPython 7.17 and above.\n",
            "  and should_run_async(code)\n"
          ]
        }
      ]
    },
    {
      "cell_type": "code",
      "source": [
        "!ls"
      ],
      "metadata": {
        "colab": {
          "base_uri": "https://localhost:8080/"
        },
        "id": "4vXo9Ri8Nf7F",
        "outputId": "313e6b1e-d59b-44ab-85cb-1de4bfa8903c"
      },
      "execution_count": 51,
      "outputs": [
        {
          "output_type": "stream",
          "name": "stdout",
          "text": [
            "rl_trading.ipynb\n"
          ]
        },
        {
          "output_type": "stream",
          "name": "stderr",
          "text": [
            "/usr/local/lib/python3.10/dist-packages/ipykernel/ipkernel.py:283: DeprecationWarning: `should_run_async` will not call `transform_cell` automatically in the future. Please pass the result to `transformed_cell` argument and any exception that happen during thetransform in `preprocessing_exc_tuple` in IPython 7.17 and above.\n",
            "  and should_run_async(code)\n"
          ]
        }
      ]
    },
    {
      "cell_type": "code",
      "source": [
        "!mv /content/rl_trading.ipynb /content/Reinforcement_Learning_Trading/"
      ],
      "metadata": {
        "colab": {
          "base_uri": "https://localhost:8080/"
        },
        "id": "YNeKT-82Nrcg",
        "outputId": "838d484f-1b6e-41ff-8115-3d8b31157a43"
      },
      "execution_count": 52,
      "outputs": [
        {
          "output_type": "stream",
          "name": "stdout",
          "text": [
            "mv: cannot stat '/content/rl_trading.ipynb': No such file or directory\n"
          ]
        },
        {
          "output_type": "stream",
          "name": "stderr",
          "text": [
            "/usr/local/lib/python3.10/dist-packages/ipykernel/ipkernel.py:283: DeprecationWarning: `should_run_async` will not call `transform_cell` automatically in the future. Please pass the result to `transformed_cell` argument and any exception that happen during thetransform in `preprocessing_exc_tuple` in IPython 7.17 and above.\n",
            "  and should_run_async(code)\n"
          ]
        }
      ]
    },
    {
      "cell_type": "code",
      "source": [
        "!ls /content/"
      ],
      "metadata": {
        "colab": {
          "base_uri": "https://localhost:8080/"
        },
        "id": "gClesaSQOFX4",
        "outputId": "8f7f841b-7d19-4c5a-d61b-eda2efa4fd31"
      },
      "execution_count": 53,
      "outputs": [
        {
          "output_type": "stream",
          "name": "stdout",
          "text": [
            "Reinforcement_Learning_Trading\tsample_data\n"
          ]
        },
        {
          "output_type": "stream",
          "name": "stderr",
          "text": [
            "/usr/local/lib/python3.10/dist-packages/ipykernel/ipkernel.py:283: DeprecationWarning: `should_run_async` will not call `transform_cell` automatically in the future. Please pass the result to `transformed_cell` argument and any exception that happen during thetransform in `preprocessing_exc_tuple` in IPython 7.17 and above.\n",
            "  and should_run_async(code)\n"
          ]
        }
      ]
    },
    {
      "cell_type": "code",
      "source": [
        "!pwd"
      ],
      "metadata": {
        "colab": {
          "base_uri": "https://localhost:8080/"
        },
        "id": "Y1LcNmf3OVjp",
        "outputId": "d811fee1-4bba-4d4b-d58a-ecdcf92fc15f"
      },
      "execution_count": 54,
      "outputs": [
        {
          "output_type": "stream",
          "name": "stdout",
          "text": [
            "/content/Reinforcement_Learning_Trading\n"
          ]
        },
        {
          "output_type": "stream",
          "name": "stderr",
          "text": [
            "/usr/local/lib/python3.10/dist-packages/ipykernel/ipkernel.py:283: DeprecationWarning: `should_run_async` will not call `transform_cell` automatically in the future. Please pass the result to `transformed_cell` argument and any exception that happen during thetransform in `preprocessing_exc_tuple` in IPython 7.17 and above.\n",
            "  and should_run_async(code)\n"
          ]
        }
      ]
    },
    {
      "cell_type": "code",
      "source": [
        "%cd .."
      ],
      "metadata": {
        "colab": {
          "base_uri": "https://localhost:8080/"
        },
        "id": "Ta1YVBY6OcV7",
        "outputId": "2e075d1e-ceeb-4c7c-a669-202a27810e31"
      },
      "execution_count": 55,
      "outputs": [
        {
          "output_type": "stream",
          "name": "stdout",
          "text": [
            "/content\n"
          ]
        },
        {
          "output_type": "stream",
          "name": "stderr",
          "text": [
            "/usr/local/lib/python3.10/dist-packages/ipykernel/ipkernel.py:283: DeprecationWarning: `should_run_async` will not call `transform_cell` automatically in the future. Please pass the result to `transformed_cell` argument and any exception that happen during thetransform in `preprocessing_exc_tuple` in IPython 7.17 and above.\n",
            "  and should_run_async(code)\n"
          ]
        }
      ]
    },
    {
      "cell_type": "code",
      "source": [
        "!ls"
      ],
      "metadata": {
        "colab": {
          "base_uri": "https://localhost:8080/"
        },
        "id": "s2H7uv4yOiMt",
        "outputId": "9768b8d9-f651-4eee-86e4-e8cad9137b17"
      },
      "execution_count": 56,
      "outputs": [
        {
          "output_type": "stream",
          "name": "stdout",
          "text": [
            "Reinforcement_Learning_Trading\tsample_data\n"
          ]
        },
        {
          "output_type": "stream",
          "name": "stderr",
          "text": [
            "/usr/local/lib/python3.10/dist-packages/ipykernel/ipkernel.py:283: DeprecationWarning: `should_run_async` will not call `transform_cell` automatically in the future. Please pass the result to `transformed_cell` argument and any exception that happen during thetransform in `preprocessing_exc_tuple` in IPython 7.17 and above.\n",
            "  and should_run_async(code)\n"
          ]
        }
      ]
    },
    {
      "cell_type": "code",
      "source": [
        "%cd .."
      ],
      "metadata": {
        "colab": {
          "base_uri": "https://localhost:8080/"
        },
        "id": "39XQhBFyOj6M",
        "outputId": "69f1a7e9-3e3d-49d5-cf31-348af22c634f"
      },
      "execution_count": 57,
      "outputs": [
        {
          "output_type": "stream",
          "name": "stdout",
          "text": [
            "/\n"
          ]
        },
        {
          "output_type": "stream",
          "name": "stderr",
          "text": [
            "/usr/local/lib/python3.10/dist-packages/ipykernel/ipkernel.py:283: DeprecationWarning: `should_run_async` will not call `transform_cell` automatically in the future. Please pass the result to `transformed_cell` argument and any exception that happen during thetransform in `preprocessing_exc_tuple` in IPython 7.17 and above.\n",
            "  and should_run_async(code)\n"
          ]
        }
      ]
    },
    {
      "cell_type": "code",
      "source": [
        "!ls"
      ],
      "metadata": {
        "colab": {
          "base_uri": "https://localhost:8080/"
        },
        "id": "75jBFQDfOlay",
        "outputId": "833dd88e-fe5b-4e83-cf3c-1996a42a16fa"
      },
      "execution_count": 58,
      "outputs": [
        {
          "output_type": "stream",
          "name": "stdout",
          "text": [
            "bin\t\t\t    datalab  lib     media\t\t       proc\t   sbin  tools\n",
            "boot\t\t\t    dev      lib32   mnt\t\t       python-apt  srv\t usr\n",
            "content\t\t\t    etc      lib64   NGC-DL-CONTAINER-LICENSE  root\t   sys\t var\n",
            "cuda-keyring_1.0-1_all.deb  home     libx32  opt\t\t       run\t   tmp\n"
          ]
        },
        {
          "output_type": "stream",
          "name": "stderr",
          "text": [
            "/usr/local/lib/python3.10/dist-packages/ipykernel/ipkernel.py:283: DeprecationWarning: `should_run_async` will not call `transform_cell` automatically in the future. Please pass the result to `transformed_cell` argument and any exception that happen during thetransform in `preprocessing_exc_tuple` in IPython 7.17 and above.\n",
            "  and should_run_async(code)\n"
          ]
        }
      ]
    },
    {
      "cell_type": "code",
      "source": [
        "%cd /content"
      ],
      "metadata": {
        "colab": {
          "base_uri": "https://localhost:8080/"
        },
        "id": "d4lbo_SSOmwW",
        "outputId": "be781b8c-fe06-4e3d-d5f5-38aadb1454d8"
      },
      "execution_count": 59,
      "outputs": [
        {
          "output_type": "stream",
          "name": "stdout",
          "text": [
            "/content\n"
          ]
        },
        {
          "output_type": "stream",
          "name": "stderr",
          "text": [
            "/usr/local/lib/python3.10/dist-packages/ipykernel/ipkernel.py:283: DeprecationWarning: `should_run_async` will not call `transform_cell` automatically in the future. Please pass the result to `transformed_cell` argument and any exception that happen during thetransform in `preprocessing_exc_tuple` in IPython 7.17 and above.\n",
            "  and should_run_async(code)\n"
          ]
        }
      ]
    },
    {
      "cell_type": "code",
      "source": [
        "!ls"
      ],
      "metadata": {
        "colab": {
          "base_uri": "https://localhost:8080/"
        },
        "id": "P9FMP_pbO7Pt",
        "outputId": "4e19b5b5-daff-424b-ca9b-28e220e746bd"
      },
      "execution_count": 60,
      "outputs": [
        {
          "output_type": "stream",
          "name": "stdout",
          "text": [
            "Reinforcement_Learning_Trading\tsample_data\n"
          ]
        },
        {
          "output_type": "stream",
          "name": "stderr",
          "text": [
            "/usr/local/lib/python3.10/dist-packages/ipykernel/ipkernel.py:283: DeprecationWarning: `should_run_async` will not call `transform_cell` automatically in the future. Please pass the result to `transformed_cell` argument and any exception that happen during thetransform in `preprocessing_exc_tuple` in IPython 7.17 and above.\n",
            "  and should_run_async(code)\n"
          ]
        }
      ]
    },
    {
      "cell_type": "code",
      "source": [],
      "metadata": {
        "id": "3dba8cMDO9BI"
      },
      "execution_count": null,
      "outputs": []
    }
  ]
}